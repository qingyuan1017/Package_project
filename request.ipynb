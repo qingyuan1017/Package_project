{
 "cells": [
  {
   "cell_type": "markdown",
   "metadata": {},
   "source": [
    "# Introduction and Motivation\n",
    "\n",
    "   Given Requests is the most famous HTTP library which is powered by urllib3, it is also simple and elegant. Its popularity has made it the most downloaded Python packages, averaging up to 7,000,000 downloads per month. Since Python is a language which contains libraries that allows users to interact with websites easily, retrieving data via Requests Library will return data in Python script, making modifications convenient for users. Essentially, once a request is sent to a web browser, tools within the Requests library will enable users to send HTTP/1.1 requests to the server, translate data from the browser, and return information from webpage in Python script. Data translated into Python script will be similar to the information of the browser, but it will allow users to add, delete, or make modifications on the web without the need to manually add query strings to the URLs. Data translated into Python script from Requests also makes it convenient for users to obtain and parse RSS feeds more easily. With the development of Application Program Interfaces, which is used to retrieve data from remote websites, making a request on sites such as Twitter and Facebook will give users access to the data of the companies through their APIs.\n"
   ]
  },
  {
   "cell_type": "markdown",
   "metadata": {},
   "source": [
    "# Context : Alternative solutions for a simple retrieval from the web page"
   ]
  },
  {
   "cell_type": "markdown",
   "metadata": {},
   "source": [
    "## Use the Requests Package"
   ]
  },
  {
   "cell_type": "code",
   "execution_count": null,
   "metadata": {
    "collapsed": true
   },
   "outputs": [],
   "source": [
    "import requests\n",
    "url = 'https://en.wikipedia.org/wiki/Gigi_Hadid'\n",
    "response = requests.get(url)"
   ]
  },
  {
   "cell_type": "code",
   "execution_count": null,
   "metadata": {
    "collapsed": true
   },
   "outputs": [],
   "source": [
    "# Response Status Codes\n",
    "response.status_code"
   ]
  },
  {
   "cell_type": "code",
   "execution_count": null,
   "metadata": {
    "collapsed": true
   },
   "outputs": [],
   "source": [
    "# Response Headers\n",
    "response.headers['content-type']"
   ]
  },
  {
   "cell_type": "code",
   "execution_count": null,
   "metadata": {
    "collapsed": true
   },
   "outputs": [],
   "source": [
    "# Response Content\n",
    "response.content"
   ]
  },
  {
   "cell_type": "markdown",
   "metadata": {},
   "source": [
    "## Alternative Solutions\n",
    "### Solution 1 : Use the Urllib Package"
   ]
  },
  {
   "cell_type": "markdown",
   "metadata": {},
   "source": [
    "The urllib.request module under the urllib package defines functions and classes which help in opening URLs (mostly HTTP) in a complex world — basic and digest authentication, redirections, cookies and more.\n",
    "#Urllib.request Module can do the same retrieval of status code, headers, and content as the Requests Package. It is the best alternative solution for requests to do simple retrivals from web pages."
   ]
  },
  {
   "cell_type": "code",
   "execution_count": null,
   "metadata": {
    "collapsed": true
   },
   "outputs": [],
   "source": [
    "import urllib.request\n",
    "\n",
    "url = 'https://en.wikipedia.org/wiki/Gigi_Hadid'\n",
    "response = urllib.request.urlopen(url)"
   ]
  },
  {
   "cell_type": "code",
   "execution_count": null,
   "metadata": {
    "collapsed": true
   },
   "outputs": [],
   "source": [
    "# Response Status Codes\n",
    "response.getcode()"
   ]
  },
  {
   "cell_type": "code",
   "execution_count": null,
   "metadata": {
    "collapsed": true
   },
   "outputs": [],
   "source": [
    "# Response Headers\n",
    "response.headers.get_all('content-type')"
   ]
  },
  {
   "cell_type": "code",
   "execution_count": null,
   "metadata": {
    "collapsed": true
   },
   "outputs": [],
   "source": [
    "# Response Content\n",
    "response.read()"
   ]
  },
  {
   "cell_type": "markdown",
   "metadata": {},
   "source": [
    "### Solution 2 : Use the Httplib2 Package"
   ]
  },
  {
   "cell_type": "markdown",
   "metadata": {},
   "source": [
    "Httplib2 Packagge is a comprehensive HTTP client library.\n",
    "\n",
    "The request( ) function can perform a single HTTP retrieval as well."
   ]
  },
  {
   "cell_type": "markdown",
   "metadata": {},
   "source": [
    "The return value is a tuple of (response, content), the response being and instance of the ‘Response’ class, the content being a string that contains the response entity body. The content is already decompressed or unzipped if necessary. The 'resp' contains all the response headers."
   ]
  },
  {
   "cell_type": "code",
   "execution_count": null,
   "metadata": {
    "collapsed": true
   },
   "outputs": [],
   "source": [
    "import httplib2\n",
    "h = httplib2.Http()\n",
    "rep,content = h.request(\"https://en.wikipedia.org/wiki/Gigi_Hadid\", \"GET\")\n",
    "rep,content"
   ]
  },
  {
   "cell_type": "markdown",
   "metadata": {},
   "source": [
    "### Solution 3 : Use the browser directly"
   ]
  },
  {
   "cell_type": "markdown",
   "metadata": {},
   "source": [
    "The browser we use, such as Chrome, Firefox, IE, allows us send request to server and return the response. Hence, the work done by a request package is more or less similar to that of a Web browser. \n",
    "Some reasons why Python is preferred for accessing the Web are:\n",
    "    Scripts can be written to automate interaction with a Web page.\n",
    "    RSS feeds can be obtained and parsed.\n",
    "    A Web spider to test your site or search other sites can be written.\n",
    "    Beautifulsoup (a Python module) is used for parsing HTML and XML files.\n"
   ]
  },
  {
   "cell_type": "markdown",
   "metadata": {},
   "source": [
    "# Installation of Requests Package\n",
    "\n",
    "Installing Python Requests is very simple and can be done using any of the two methods mentioned below:"
   ]
  },
  {
   "cell_type": "markdown",
   "metadata": {},
   "source": [
    "## 1. Pip Install Requests \n",
    "\n",
    "\n",
    "To install Requests, simply run this simple command in your terminal of choice:\n",
    "#This works with Python versions 2.6, 2.7, 3.1, 3.2 and 3.3"
   ]
  },
  {
   "cell_type": "code",
   "execution_count": null,
   "metadata": {
    "collapsed": true
   },
   "outputs": [],
   "source": [
    "$ pip install requests"
   ]
  },
  {
   "cell_type": "markdown",
   "metadata": {},
   "source": [
    "If you don’t have pip installed (tisk tisk!)"
   ]
  },
  {
   "cell_type": "markdown",
   "metadata": {},
   "source": [
    "## 2. Download from the source code\n",
    "Requests is actively developed on GitHub, where the code is always available."
   ]
  },
  {
   "cell_type": "markdown",
   "metadata": {},
   "source": [
    "You can either clone the public repository:"
   ]
  },
  {
   "cell_type": "code",
   "execution_count": null,
   "metadata": {
    "collapsed": true
   },
   "outputs": [],
   "source": [
    "$ git clone git://github.com/kennethreitz/requests.git"
   ]
  },
  {
   "cell_type": "markdown",
   "metadata": {},
   "source": [
    "Or, download the tarball:"
   ]
  },
  {
   "cell_type": "code",
   "execution_count": null,
   "metadata": {
    "collapsed": true
   },
   "outputs": [],
   "source": [
    "$ curl -OL https://github.com/kennethreitz/requests/tarball/master\n",
    "# optionally, zipball is also available (for Windows users)."
   ]
  },
  {
   "cell_type": "markdown",
   "metadata": {},
   "source": [
    "Once you have a copy of the source, you can embed it in your own Python package, or install it into your site-packages\n",
    "easily:"
   ]
  },
  {
   "cell_type": "code",
   "execution_count": null,
   "metadata": {
    "collapsed": true
   },
   "outputs": [],
   "source": [
    "$ python setup.py install"
   ]
  },
  {
   "cell_type": "markdown",
   "metadata": {},
   "source": [
    "Reference : 'Requests Documentation', Kenneth Reitz\n",
    "#https://media.readthedocs.org/pdf/requests/master/requests.pdf"
   ]
  },
  {
   "cell_type": "code",
   "execution_count": 2,
   "metadata": {
    "collapsed": true
   },
   "outputs": [],
   "source": []
  },
  {
   "cell_type": "markdown",
   "metadata": {},
   "source": [
    "# Functionality\n",
    "\n",
    "## Request Methods: GET \n",
    "\n",
    "\n",
    "### GET requests a representation of the specified resource. \n",
    "Note that GET should not be used for operations that cause side-effects, such as using it for taking actions in web applications. One reason for this is that GET may be used arbitrarily by robots or crawlers, which should not need to consider the side effects that a request should cause.\n",
    "\n",
    "### Request package will automatically decode content from the server. Most unicode charsets are seamlessly decoded."
   ]
  },
  {
   "cell_type": "code",
   "execution_count": 14,
   "metadata": {
    "collapsed": false
   },
   "outputs": [
    {
     "data": {
      "text/plain": [
       "'[{\"id\":\"5353072878\",\"type\":\"ForkEvent\",\"actor\":{\"id\":18417302,\"login\":\"tx1987516\",\"display_login\":\"tx1987516\",\"gravatar_id\":\"\",\"url\":\"https://api.github.com/users/tx1987516\",\"avatar_url\":\"https://avatars.githubusercontent.com/u/18417302?\"},\"repo\":{\"id\":20992284,\"name\":\"stanzhai/be-a-professional-programmer\",\"url\":\"https://api.github.com/repos/stanzhai/be-a-professional-programmer\"},\"payload\":{\"forkee\":{\"id\":82512247,\"name\":\"be-a-professional-programmer\",\"full_name\":\"tx1987516/be-a-professional-programmer\",\"owner\":{\"login\":\"tx1987516\",\"id\":18417302,\"avatar_url\":\"https://avatars.githubusercontent.com/u/18417302?v=3\",\"gravatar_id\":\"\",\"url\":\"https://api.github.com/users/tx1987516\",\"html_url\":\"https://github.com/tx1987516\",\"followers_url\":\"https://api.github.com/users/tx1987516/followers\",\"following_url\":\"https://api.github.com/users/tx1987516/following{/other_user}\",\"gists_url\":\"https://api.github.com/users/tx1987516/gists{/gist_id}\",\"starred_url\":\"https://api.github.com/users/tx1987516/starred{/owner}{/repo}\",\"subscriptions_url\":\"https://api.github.com/users/tx1987516/subscriptions\",\"organizations_url\":\"https://api.github.com/users/tx1987516/orgs\",\"repos_url\":\"https://api.github.com/users/tx1987516/repos\",\"events_url\":\"https://api.github.com/users/tx1987516/events{/privacy}\",\"received_events_url\":\"https://api.github.com/users/tx1987516/received_events\",\"type\":\"User\",\"site_admin\":false},\"private\":false,\"html_url\":\"https://github.com/tx1987516/be-a-professional-programmer\",\"description\":\"成为专业程序员路上用到的各种优秀资料、神器及框架\",\"fork\":true,\"url\":\"https://api.github.com/repos/tx1987516/be-a-professional-programmer\",\"forks_url\":\"https://api.github.com/repos/tx1987516/be-a-professional-programmer/forks\",\"keys_url\":\"https://api.github.com/repos/tx1987516/be-a-professional-programmer/keys{/key_id}\",\"collaborators_url\":\"https://api.github.com/repos/tx1987516/be-a-professional-programmer/collaborators{/collaborator}\",\"teams_url\":\"https://api.github.com/repos/tx1987516/be-a-professional-programmer/teams\",\"hooks_url\":\"https://api.github.com/repos/tx1987516/be-a-professional-programmer/hooks\",\"issue_events_url\":\"https://api.github.com/repos/tx1987516/be-a-professional-programmer/issues/events{/number}\",\"events_url\":\"https://api.github.com/repos/tx1987516/be-a-professional-programmer/events\",\"assignees_url\":\"https://api.github.com/repos/tx1987516/be-a-professional-programmer/assignees{/user}\",\"branches_url\":\"https://api.github.com/repos/tx1987516/be-a-professional-programmer/branches{/branch}\",\"tags_url\":\"https://api.github.com/repos/tx1987516/be-a-professional-programmer/tags\",\"blobs_url\":\"https://api.github.com/repos/tx1987516/be-a-professional-programmer/git/blobs{/sha}\",\"git_tags_url\":\"https://api.github.com/repos/tx1987516/be-a-professional-programmer/git/tags{/sha}\",\"git_refs_url\":\"https://api.github.com/repos/tx1987516/be-a-professional-programmer/git/refs{/sha}\",\"trees_url\":\"https://api.github.com/repos/tx1987516/be-a-professional-programmer/git/trees{/sha}\",\"statuses_url\":\"https://api.github.com/repos/tx1987516/be-a-professional-programmer/statuses/{sha}\",\"languages_url\":\"https://api.github.com/repos/tx1987516/be-a-professional-programmer/languages\",\"stargazers_url\":\"https://api.github.com/repos/tx1987516/be-a-professional-programmer/stargazers\",\"contributors_url\":\"https://api.github.com/repos/tx1987516/be-a-professional-programmer/contributors\",\"subscribers_url\":\"https://api.github.com/repos/tx1987516/be-a-professional-programmer/subscribers\",\"subscription_url\":\"https://api.github.com/repos/tx1987516/be-a-professional-programmer/subscription\",\"commits_url\":\"https://api.github.com/repos/tx1987516/be-a-professional-programmer/commits{/sha}\",\"git_commits_url\":\"https://api.github.com/repos/tx1987516/be-a-professional-programmer/git/commits{/sha}\",\"comments_url\":\"https://api.github.com/repos/tx1987516/be-a-professional-programmer/comments{/number}\",\"issue_comment_url\":\"https://api.github.com/repos/tx1987516/be-a-professional-programmer/issues/comments{/number}\",\"contents_url\":\"https://api.github.com/repos/tx1987516/be-a-professional-programmer/contents/{+path}\",\"compare_url\":\"https://api.github.com/repos/tx1987516/be-a-professional-programmer/compare/{base}...{head}\",\"merges_url\":\"https://api.github.com/repos/tx1987516/be-a-professional-programmer/merges\",\"archive_url\":\"https://api.github.com/repos/tx1987516/be-a-professional-programmer/{archive_format}{/ref}\",\"downloads_url\":\"https://api.github.com/repos/tx1987516/be-a-professional-programmer/downloads\",\"issues_url\":\"https://api.github.com/repos/tx1987516/be-a-professional-programmer/issues{/number}\",\"pulls_url\":\"https://api.github.com/repos/tx1987516/be-a-professional-programmer/pulls{/number}\",\"milestones_url\":\"https://api.github.com/repos/tx1987516/be-a-professional-programmer/milestones{/number}\",\"notifications_url\":\"https://api.github.com/repos/tx1987516/be-a-professional-programmer/notifications{?since,all,participating}\",\"labels_url\":\"https://api.github.com/repos/tx1987516/be-a-professional-programmer/labels{/name}\",\"releases_url\":\"https://api.github.com/repos/tx1987516/be-a-professional-programmer/releases{/id}\",\"deployments_url\":\"https://api.github.com/repos/tx1987516/be-a-professional-programmer/deployments\",\"created_at\":\"2017-02-20T03:21:45Z\",\"updated_at\":\"2017-02-20T03:21:35Z\",\"pushed_at\":\"2017-02-18T15:04:41Z\",\"git_url\":\"git://github.com/tx1987516/be-a-professional-programmer.git\",\"ssh_url\":\"git@github.com:tx1987516/be-a-professional-programmer.git\",\"clone_url\":\"https://github.com/tx1987516/be-a-professional-programmer.git\",\"svn_url\":\"https://github.com/tx1987516/be-a-professional-programmer\",\"homepage\":\"http://tools.zhaishidan.cn/\",\"size\":170,\"stargazers_count\":0,\"watchers_count\":0,\"language\":null,\"has_issues\":false,\"has_downloads\":true,\"has_wiki\":true,\"has_pages\":false,\"forks_count\":0,\"mirror_url\":null,\"open_issues_count\":0,\"forks\":0,\"open_issues\":0,\"watchers\":0,\"default_branch\":\"gh-pages\",\"public\":true}},\"public\":true,\"created_at\":\"2017-02-20T03:21:45Z\"},{\"id\":\"5353072876\",\"type\":\"PushEvent\",\"actor\":{\"id\":4801928,\"login\":\"wjcgithub\",\"display_login\":\"wjcgithub\",\"gravatar_id\":\"\",\"url\":\"https://api.github.com/users/wjcgithub\",\"avatar_url\":\"https://avatars.githubusercontent.com/u/4801928?\"},\"repo\":{\"id\":57265496,\"name\":\"wjcgithub/php_design_code\",\"url\":\"https://api.github.com/repos/wjcgithub/php_design_code\"},\"payload\":{\"push_id\":1567029534,\"size\":1,\"distinct_size\":1,\"ref\":\"refs/heads/master\",\"head\":\"ff2d4d8d8705bc36942e06cee637c36932708b91\",\"before\":\"e78af08f0c58f90a3a93721a3052ec9b3b058477\",\"commits\":[{\"sha\":\"ff2d4d8d8705bc36942e06cee637c36932708b91\",\"author\":{\"email\":\"wjc163@sina.cn\",\"name\":\"wjcgithub\"},\"message\":\"添加代理模式\",\"distinct\":true,\"url\":\"https://api.github.com/repos/wjcgithub/php_design_code/commits/ff2d4d8d8705bc36942e06cee637c36932708b91\"}]},\"public\":true,\"created_at\":\"2017-02-20T03:21:45Z\"},{\"id\":\"5353072869\",\"type\":\"PushEvent\",\"actor\":{\"id\":20388190,\"login\":\"KennethBates\",\"display_login\":\"KennethBates\",\"gravatar_id\":\"\",\"url\":\"https://api.github.com/users/KennethBates\",\"avatar_url\":\"https://avatars.githubusercontent.com/u/20388190?\"},\"repo\":{\"id\":79398487,\"name\":\"OctopusDeploy/docs\",\"url\":\"https://api.github.com/repos/OctopusDeploy/docs\"},\"payload\":{\"push_id\":1567029530,\"size\":1,\"distinct_size\":1,\"ref\":\"refs/heads/master\",\"head\":\"481639c2c2b4e7187fd030a804edf80c40eb17df\",\"before\":\"92a7303b5b8d21222b3836b8188d98d8f7a6251c\",\"commits\":[{\"sha\":\"481639c2c2b4e7187fd030a804edf80c40eb17df\",\"author\":{\"email\":\"kenneth.bates@octopus.com\",\"name\":\"SLTemplezz\"},\"message\":\"Formatting fix\\\\n\\\\nAdded a space on line 17 between two words not separated.\",\"distinct\":true,\"url\":\"https://api.github.com/repos/OctopusDeploy/docs/commits/481639c2c2b4e7187fd030a804edf80c40eb17df\"}]},\"public\":true,\"created_at\":\"2017-02-20T03:21:44Z\",\"org\":{\"id\":1287123,\"login\":\"OctopusDeploy\",\"gravatar_id\":\"\",\"url\":\"https://api.github.com/orgs/OctopusDeploy\",\"avatar_url\":\"https://avatars.githubusercontent.com/u/1287123?\"}},{\"id\":\"5353072866\",\"type\":\"CreateEvent\",\"actor\":{\"id\":25890831,\"login\":\"chen0704\",\"display_login\":\"chen0704\",\"gravatar_id\":\"\",\"url\":\"https://api.github.com/users/chen0704\",\"avatar_url\":\"https://avatars.githubusercontent.com/u/25890831?\"},\"repo\":{\"id\":82512246,\"name\":\"chen0704/chen0704.github.io\",\"url\":\"https://api.github.com/repos/chen0704/chen0704.github.io\"},\"payload\":{\"ref\":\"master\",\"ref_type\":\"branch\",\"master_branch\":\"master\",\"description\":\"explain\",\"pusher_type\":\"user\"},\"public\":true,\"created_at\":\"2017-02-20T03:21:44Z\"},{\"id\":\"5353072856\",\"type\":\"PushEvent\",\"actor\":{\"id\":5083553,\"login\":\"meeeenica\",\"display_login\":\"meeeenica\",\"gravatar_id\":\"\",\"url\":\"https://api.github.com/users/meeeenica\",\"avatar_url\":\"https://avatars.githubusercontent.com/u/5083553?\"},\"repo\":{\"id\":81134995,\"name\":\"PROG8165-Grp9/PROG8165_Assignment2\",\"url\":\"https://api.github.com/repos/PROG8165-Grp9/PROG8165_Assignment2\"},\"payload\":{\"push_id\":1567029528,\"size\":1,\"distinct_size\":1,\"ref\":\"refs/heads/develop\",\"head\":\"d38ea0fc5ada880aaa48ddb909db9100ffb4efc3\",\"before\":\"5d44d8f72cb04bb2d9dd5e57281e58c11aef4fe4\",\"commits\":[{\"sha\":\"d38ea0fc5ada880aaa48ddb909db9100ffb4efc3\",\"author\":{\"email\":\"lea.belo@delasalle.ph\",\"name\":\"Lea Monica Belo\"},\"message\":\"Adjusted changes\",\"distinct\":true,\"url\":\"https://api.github.com/repos/PROG8165-Grp9/PROG8165_Assignment2/commits/d38ea0fc5ada880aaa48ddb909db9100ffb4efc3\"}]},\"public\":true,\"created_at\":\"2017-02-20T03:21:44Z\",\"org\":{\"id\":25757955,\"login\":\"PROG8165-Grp9\",\"gravatar_id\":\"\",\"url\":\"https://api.github.com/orgs/PROG8165-Grp9\",\"avatar_url\":\"https://avatars.githubusercontent.com/u/25757955?\"}},{\"id\":\"5353072853\",\"type\":\"ReleaseEvent\",\"actor\":{\"id\":195836,\"login\":\"phuslu\",\"display_login\":\"phuslu\",\"gravatar_id\":\"\",\"url\":\"https://api.github.com/users/phuslu\",\"avatar_url\":\"https://avatars.githubusercontent.com/u/195836?\"},\"repo\":{\"id\":54314772,\"name\":\"phuslu/goproxy-ci\",\"url\":\"https://api.github.com/repos/phuslu/goproxy-ci\"},\"payload\":{\"action\":\"published\",\"release\":{\"url\":\"https://api.github.com/repos/phuslu/goproxy-ci/releases/5505701\",\"assets_url\":\"https://api.github.com/repos/phuslu/goproxy-ci/releases/5505701/assets\",\"upload_url\":\"https://uploads.github.com/repos/phuslu/goproxy-ci/releases/5505701/assets{?name,label}\",\"html_url\":\"https://github.com/phuslu/goproxy-ci/releases/tag/r1300\",\"id\":5505701,\"tag_name\":\"r1300\",\"target_commitish\":\"master\",\"name\":\"goproxy r1300\",\"draft\":false,\"author\":{\"login\":\"phuslu\",\"id\":195836,\"avatar_url\":\"https://avatars.githubusercontent.com/u/195836?v=3\",\"gravatar_id\":\"\",\"url\":\"https://api.github.com/users/phuslu\",\"html_url\":\"https://github.com/phuslu\",\"followers_url\":\"https://api.github.com/users/phuslu/followers\",\"following_url\":\"https://api.github.com/users/phuslu/following{/other_user}\",\"gists_url\":\"https://api.github.com/users/phuslu/gists{/gist_id}\",\"starred_url\":\"https://api.github.com/users/phuslu/starred{/owner}{/repo}\",\"subscriptions_url\":\"https://api.github.com/users/phuslu/subscriptions\",\"organizations_url\":\"https://api.github.com/users/phuslu/orgs\",\"repos_url\":\"https://api.github.com/users/phuslu/repos\",\"events_url\":\"https://api.github.com/users/phuslu/events{/privacy}\",\"received_events_url\":\"https://api.github.com/users/phuslu/received_events\",\"type\":\"User\",\"site_admin\":false},\"prerelease\":false,\"created_at\":\"2017-02-20T03:21:33Z\",\"published_at\":\"2017-02-20T03:21:44Z\",\"assets\":[],\"tarball_url\":\"https://api.github.com/repos/phuslu/goproxy-ci/tarball/r1300\",\"zipball_url\":\"https://api.github.com/repos/phuslu/goproxy-ci/zipball/r1300\",\"body\":\"[r1300](https://travis-ci.org/phuslu/goproxy/builds/203163792): [`9bea0b4`](https://github.com/phuslu/goproxy/commit/9bea0b4) refine goproxy.sh\"}},\"public\":true,\"created_at\":\"2017-02-20T03:21:44Z\"},{\"id\":\"5353072851\",\"type\":\"WatchEvent\",\"actor\":{\"id\":24507407,\"login\":\"jycxh11\",\"display_login\":\"jycxh11\",\"gravatar_id\":\"\",\"url\":\"https://api.github.com/users/jycxh11\",\"avatar_url\":\"https://avatars.githubusercontent.com/u/24507407?\"},\"repo\":{\"id\":52937611,\"name\":\"zptcsoft/zptcsoft.github.io\",\"url\":\"https://api.github.com/repos/zptcsoft/zptcsoft.github.io\"},\"payload\":{\"action\":\"started\"},\"public\":true,\"created_at\":\"2017-02-20T03:21:44Z\"},{\"id\":\"5353072847\",\"type\":\"WatchEvent\",\"actor\":{\"id\":17422777,\"login\":\"zebra200\",\"display_login\":\"zebra200\",\"gravatar_id\":\"\",\"url\":\"https://api.github.com/users/zebra200\",\"avatar_url\":\"https://avatars.githubusercontent.com/u/17422777?\"},\"repo\":{\"id\":45821540,\"name\":\"openwrt/openwrt\",\"url\":\"https://api.github.com/repos/openwrt/openwrt\"},\"payload\":{\"action\":\"started\"},\"public\":true,\"created_at\":\"2017-02-20T03:21:44Z\",\"org\":{\"id\":2528830,\"login\":\"openwrt\",\"gravatar_id\":\"\",\"url\":\"https://api.github.com/orgs/openwrt\",\"avatar_url\":\"https://avatars.githubusercontent.com/u/2528830?\"}},{\"id\":\"5353072837\",\"type\":\"DeleteEvent\",\"actor\":{\"id\":219043,\"login\":\"jcfr\",\"display_login\":\"jcfr\",\"gravatar_id\":\"\",\"url\":\"https://api.github.com/users/jcfr\",\"avatar_url\":\"https://avatars.githubusercontent.com/u/219043?\"},\"repo\":{\"id\":82427276,\"name\":\"jcfr/github-release-test\",\"url\":\"https://api.github.com/repos/jcfr/github-release-test\"},\"payload\":{\"ref\":\"2.0.0\",\"ref_type\":\"tag\",\"pusher_type\":\"user\"},\"public\":true,\"created_at\":\"2017-02-20T03:21:44Z\"},{\"id\":\"5353072835\",\"type\":\"PullRequestEvent\",\"actor\":{\"id\":11485145,\"login\":\"kfeagle\",\"display_login\":\"kfeagle\",\"gravatar_id\":\"\",\"url\":\"https://api.github.com/users/kfeagle\",\"avatar_url\":\"https://avatars.githubusercontent.com/u/11485145?\"},\"repo\":{\"id\":53658802,\"name\":\"alibaba/weex\",\"url\":\"https://api.github.com/repos/alibaba/weex\"},\"payload\":{\"action\":\"opened\",\"number\":2655,\"pull_request\":{\"url\":\"https://api.github.com/repos/alibaba/weex/pulls/2655\",\"id\":106933960,\"html_url\":\"https://github.com/alibaba/weex/pull/2655\",\"diff_url\":\"https://github.com/alibaba/weex/pull/2655.diff\",\"patch_url\":\"https://github.com/alibaba/weex/pull/2655.patch\",\"issue_url\":\"https://api.github.com/repos/alibaba/weex/issues/2655\",\"number\":2655,\"state\":\"open\",\"locked\":false,\"title\":\"* [ios] bug fix: optimize parameter match function\",\"user\":{\"login\":\"kfeagle\",\"id\":11485145,\"avatar_url\":\"https://avatars.githubusercontent.com/u/11485145?v=3\",\"gravatar_id\":\"\",\"url\":\"https://api.github.com/users/kfeagle\",\"html_url\":\"https://github.com/kfeagle\",\"followers_url\":\"https://api.github.com/users/kfeagle/followers\",\"following_url\":\"https://api.github.com/users/kfeagle/following{/other_user}\",\"gists_url\":\"https://api.github.com/users/kfeagle/gists{/gist_id}\",\"starred_url\":\"https://api.github.com/users/kfeagle/starred{/owner}{/repo}\",\"subscriptions_url\":\"https://api.github.com/users/kfeagle/subscriptions\",\"organizations_url\":\"https://api.github.com/users/kfeagle/orgs\",\"repos_url\":\"https://api.github.com/users/kfeagle/repos\",\"events_url\":\"https://api.github.com/users/kfeagle/events{/privacy}\",\"received_events_url\":\"https://api.github.com/users/kfeagle/received_events\",\"type\":\"User\",\"site_admin\":false},\"body\":\"# 参数保护机制优化\\\\r\\\\n- 对于不匹配的参数，转化为设置的类型\\\\r\\\\n- 在debug 模式下，对于不匹配的情况，中断调试，并且提示第几个参数不匹配信息\\\\r\\\\n\\\\r\\\\n# demo\\\\r\\\\n```html\\\\r\\\\nWX_EXPORT_METHOD(@selector(getString:testString1:testFloat:testInt:testDouble:testArray:testDic:callback:))\\\\r\\\\n\\\\r\\\\n\\\\r\\\\n- (void)getString:(NSString *)testString testString1:(NSString *)testString1 testFloat:(CGFloat)floatValue testInt:(NSInteger)intValue testDouble:(double )testDouble testArray:(NSArray *)array testDic:(NSDictionary *)testDic callback:(WXModuleCallback)callback\\\\r\\\\n{\\\\r\\\\n    NSLog(@\\\\\"%@，%@,%f,%d,%f,%@,%@,%@\\\\\",testString,testString1,floatValue,intValue,testDouble,array,testDic,callback);\\\\r\\\\n}\\\\r\\\\n```\\\\r\\\\n\\\\r\\\\n```html\\\\r\\\\nclipboard.getString(\\\\\"teststring\\\\\",\\\\\"teststring1\\\\\",1.0,1,1.0,[\\\\\"1\\\\\",\\\\\"2\\\\\"],{\\\\\"key\\\\\":\\\\\"1\\\\\"},1,function(ret) {\\\\r\\\\n          console.log(\\\\\"paste result is \\\\\" + JSON.stringify(ret));\\\\r\\\\n\\\\r\\\\n        });\\\\r\\\\n```\\\\r\\\\n\\\\r\\\\n\",\"created_at\":\"2017-02-20T03:21:42Z\",\"updated_at\":\"2017-02-20T03:21:42Z\",\"closed_at\":null,\"merged_at\":null,\"merge_commit_sha\":null,\"assignee\":null,\"assignees\":[],\"milestone\":null,\"commits_url\":\"https://api.github.com/repos/alibaba/weex/pulls/2655/commits\",\"review_comments_url\":\"https://api.github.com/repos/alibaba/weex/pulls/2655/comments\",\"review_comment_url\":\"https://api.github.com/repos/alibaba/weex/pulls/comments{/number}\",\"comments_url\":\"https://api.github.com/repos/alibaba/weex/issues/2655/comments\",\"statuses_url\":\"https://api.github.com/repos/alibaba/weex/statuses/e5025346ec991b00832fcafc146b17c2c06d0893\",\"head\":{\"label\":\"kfeagle:ios-feature-0.11-dev-parameter-Protection-1\",\"ref\":\"ios-feature-0.11-dev-parameter-Protection-1\",\"sha\":\"e5025346ec991b00832fcafc146b17c2c06d0893\",\"user\":{\"login\":\"kfeagle\",\"id\":11485145,\"avatar_url\":\"https://avatars.githubusercontent.com/u/11485145?v=3\",\"gravatar_id\":\"\",\"url\":\"https://api.github.com/users/kfeagle\",\"html_url\":\"https://github.com/kfeagle\",\"followers_url\":\"https://api.github.com/users/kfeagle/followers\",\"following_url\":\"https://api.github.com/users/kfeagle/following{/other_user}\",\"gists_url\":\"https://api.github.com/users/kfeagle/gists{/gist_id}\",\"starred_url\":\"https://api.github.com/users/kfeagle/starred{/owner}{/repo}\",\"subscriptions_url\":\"https://api.github.com/users/kfeagle/subscriptions\",\"organizations_url\":\"https://api.github.com/users/kfeagle/orgs\",\"repos_url\":\"https://api.github.com/users/kfeagle/repos\",\"events_url\":\"https://api.github.com/users/kfeagle/events{/privacy}\",\"received_events_url\":\"https://api.github.com/users/kfeagle/received_events\",\"type\":\"User\",\"site_admin\":false},\"repo\":{\"id\":72083756,\"name\":\"weex\",\"full_name\":\"kfeagle/weex\",\"owner\":{\"login\":\"kfeagle\",\"id\":11485145,\"avatar_url\":\"https://avatars.githubusercontent.com/u/11485145?v=3\",\"gravatar_id\":\"\",\"url\":\"https://api.github.com/users/kfeagle\",\"html_url\":\"https://github.com/kfeagle\",\"followers_url\":\"https://api.github.com/users/kfeagle/followers\",\"following_url\":\"https://api.github.com/users/kfeagle/following{/other_user}\",\"gists_url\":\"https://api.github.com/users/kfeagle/gists{/gist_id}\",\"starred_url\":\"https://api.github.com/users/kfeagle/starred{/owner}{/repo}\",\"subscriptions_url\":\"https://api.github.com/users/kfeagle/subscriptions\",\"organizations_url\":\"https://api.github.com/users/kfeagle/orgs\",\"repos_url\":\"https://api.github.com/users/kfeagle/repos\",\"events_url\":\"https://api.github.com/users/kfeagle/events{/privacy}\",\"received_events_url\":\"https://api.github.com/users/kfeagle/received_events\",\"type\":\"User\",\"site_admin\":false},\"private\":false,\"html_url\":\"https://github.com/kfeagle/weex\",\"description\":\"A framework for building Mobile cross-platform UI\",\"fork\":true,\"url\":\"https://api.github.com/repos/kfeagle/weex\",\"forks_url\":\"https://api.github.com/repos/kfeagle/weex/forks\",\"keys_url\":\"https://api.github.com/repos/kfeagle/weex/keys{/key_id}\",\"collaborators_url\":\"https://api.github.com/repos/kfeagle/weex/collaborators{/collaborator}\",\"teams_url\":\"https://api.github.com/repos/kfeagle/weex/teams\",\"hooks_url\":\"https://api.github.com/repos/kfeagle/weex/hooks\",\"issue_events_url\":\"https://api.github.com/repos/kfeagle/weex/issues/events{/number}\",\"events_url\":\"https://api.github.com/repos/kfeagle/weex/events\",\"assignees_url\":\"https://api.github.com/repos/kfeagle/weex/assignees{/user}\",\"branches_url\":\"https://api.github.com/repos/kfeagle/weex/branches{/branch}\",\"tags_url\":\"https://api.github.com/repos/kfeagle/weex/tags\",\"blobs_url\":\"https://api.github.com/repos/kfeagle/weex/git/blobs{/sha}\",\"git_tags_url\":\"https://api.github.com/repos/kfeagle/weex/git/tags{/sha}\",\"git_refs_url\":\"https://api.github.com/repos/kfeagle/weex/git/refs{/sha}\",\"trees_url\":\"https://api.github.com/repos/kfeagle/weex/git/trees{/sha}\",\"statuses_url\":\"https://api.github.com/repos/kfeagle/weex/statuses/{sha}\",\"languages_url\":\"https://api.github.com/repos/kfeagle/weex/languages\",\"stargazers_url\":\"https://api.github.com/repos/kfeagle/weex/stargazers\",\"contributors_url\":\"https://api.github.com/repos/kfeagle/weex/contributors\",\"subscribers_url\":\"https://api.github.com/repos/kfeagle/weex/subscribers\",\"subscription_url\":\"https://api.github.com/repos/kfeagle/weex/subscription\",\"commits_url\":\"https://api.github.com/repos/kfeagle/weex/commits{/sha}\",\"git_commits_url\":\"https://api.github.com/repos/kfeagle/weex/git/commits{/sha}\",\"comments_url\":\"https://api.github.com/repos/kfeagle/weex/comments{/number}\",\"issue_comment_url\":\"https://api.github.com/repos/kfeagle/weex/issues/comments{/number}\",\"contents_url\":\"https://api.github.com/repos/kfeagle/weex/contents/{+path}\",\"compare_url\":\"https://api.github.com/repos/kfeagle/weex/compare/{base}...{head}\",\"merges_url\":\"https://api.github.com/repos/kfeagle/weex/merges\",\"archive_url\":\"https://api.github.com/repos/kfeagle/weex/{archive_format}{/ref}\",\"downloads_url\":\"https://api.github.com/repos/kfeagle/weex/downloads\",\"issues_url\":\"https://api.github.com/repos/kfeagle/weex/issues{/number}\",\"pulls_url\":\"https://api.github.com/repos/kfeagle/weex/pulls{/number}\",\"milestones_url\":\"https://api.github.com/repos/kfeagle/weex/milestones{/number}\",\"notifications_url\":\"https://api.github.com/repos/kfeagle/weex/notifications{?since,all,participating}\",\"labels_url\":\"https://api.github.com/repos/kfeagle/weex/labels{/name}\",\"releases_url\":\"https://api.github.com/repos/kfeagle/weex/releases{/id}\",\"deployments_url\":\"https://api.github.com/repos/kfeagle/weex/deployments\",\"created_at\":\"2016-10-27T07:43:37Z\",\"updated_at\":\"2017-01-11T14:52:11Z\",\"pushed_at\":\"2017-02-20T03:12:37Z\",\"git_url\":\"git://github.com/kfeagle/weex.git\",\"ssh_url\":\"git@github.com:kfeagle/weex.git\",\"clone_url\":\"https://github.com/kfeagle/weex.git\",\"svn_url\":\"https://github.com/kfeagle/weex\",\"homepage\":\"https://alibaba.github.io/weex\",\"size\":84728,\"stargazers_count\":0,\"watchers_count\":0,\"language\":\"JavaScript\",\"has_issues\":false,\"has_downloads\":true,\"has_wiki\":true,\"has_pages\":false,\"forks_count\":0,\"mirror_url\":null,\"open_issues_count\":0,\"forks\":0,\"open_issues\":0,\"watchers\":0,\"default_branch\":\"dev\"}},\"base\":{\"label\":\"alibaba:0.11-dev\",\"ref\":\"0.11-dev\",\"sha\":\"c25c6256ac00893821461bc6a78076e7a11ff487\",\"user\":{\"login\":\"alibaba\",\"id\":1961952,\"avatar_url\":\"https://avatars.githubusercontent.com/u/1961952?v=3\",\"gravatar_id\":\"\",\"url\":\"https://api.github.com/users/alibaba\",\"html_url\":\"https://github.com/alibaba\",\"followers_url\":\"https://api.github.com/users/alibaba/followers\",\"following_url\":\"https://api.github.com/users/alibaba/following{/other_user}\",\"gists_url\":\"https://api.github.com/users/alibaba/gists{/gist_id}\",\"starred_url\":\"https://api.github.com/users/alibaba/starred{/owner}{/repo}\",\"subscriptions_url\":\"https://api.github.com/users/alibaba/subscriptions\",\"organizations_url\":\"https://api.github.com/users/alibaba/orgs\",\"repos_url\":\"https://api.github.com/users/alibaba/repos\",\"events_url\":\"https://api.github.com/users/alibaba/events{/privacy}\",\"received_events_url\":\"https://api.github.com/users/alibaba/received_events\",\"type\":\"Organization\",\"site_admin\":false},\"repo\":{\"id\":53658802,\"name\":\"weex\",\"full_name\":\"alibaba/weex\",\"owner\":{\"login\":\"alibaba\",\"id\":1961952,\"avatar_url\":\"https://avatars.githubusercontent.com/u/1961952?v=3\",\"gravatar_id\":\"\",\"url\":\"https://api.github.com/users/alibaba\",\"html_url\":\"https://github.com/alibaba\",\"followers_url\":\"https://api.github.com/users/alibaba/followers\",\"following_url\":\"https://api.github.com/users/alibaba/following{/other_user}\",\"gists_url\":\"https://api.github.com/users/alibaba/gists{/gist_id}\",\"starred_url\":\"https://api.github.com/users/alibaba/starred{/owner}{/repo}\",\"subscriptions_url\":\"https://api.github.com/users/alibaba/subscriptions\",\"organizations_url\":\"https://api.github.com/users/alibaba/orgs\",\"repos_url\":\"https://api.github.com/users/alibaba/repos\",\"events_url\":\"https://api.github.com/users/alibaba/events{/privacy}\",\"received_events_url\":\"https://api.github.com/users/alibaba/received_events\",\"type\":\"Organization\",\"site_admin\":false},\"private\":false,\"html_url\":\"https://github.com/alibaba/weex\",\"description\":\"A framework for building Mobile cross-platform UI\",\"fork\":false,\"url\":\"https://api.github.com/repos/alibaba/weex\",\"forks_url\":\"https://api.github.com/repos/alibaba/weex/forks\",\"keys_url\":\"https://api.github.com/repos/alibaba/weex/keys{/key_id}\",\"collaborators_url\":\"https://api.github.com/repos/alibaba/weex/collaborators{/collaborator}\",\"teams_url\":\"https://api.github.com/repos/alibaba/weex/teams\",\"hooks_url\":\"https://api.github.com/repos/alibaba/weex/hooks\",\"issue_events_url\":\"https://api.github.com/repos/alibaba/weex/issues/events{/number}\",\"events_url\":\"https://api.github.com/repos/alibaba/weex/events\",\"assignees_url\":\"https://api.github.com/repos/alibaba/weex/assignees{/user}\",\"branches_url\":\"https://api.github.com/repos/alibaba/weex/branches{/branch}\",\"tags_url\":\"https://api.github.com/repos/alibaba/weex/tags\",\"blobs_url\":\"https://api.github.com/repos/alibaba/weex/git/blobs{/sha}\",\"git_tags_url\":\"https://api.github.com/repos/alibaba/weex/git/tags{/sha}\",\"git_refs_url\":\"https://api.github.com/repos/alibaba/weex/git/refs{/sha}\",\"trees_url\":\"https://api.github.com/repos/alibaba/weex/git/trees{/sha}\",\"statuses_url\":\"https://api.github.com/repos/alibaba/weex/statuses/{sha}\",\"languages_url\":\"https://api.github.com/repos/alibaba/weex/languages\",\"stargazers_url\":\"https://api.github.com/repos/alibaba/weex/stargazers\",\"contributors_url\":\"https://api.github.com/repos/alibaba/weex/contributors\",\"subscribers_url\":\"https://api.github.com/repos/alibaba/weex/subscribers\",\"subscription_url\":\"https://api.github.com/repos/alibaba/weex/subscription\",\"commits_url\":\"https://api.github.com/repos/alibaba/weex/commits{/sha}\",\"git_commits_url\":\"https://api.github.com/repos/alibaba/weex/git/commits{/sha}\",\"comments_url\":\"https://api.github.com/repos/alibaba/weex/comments{/number}\",\"issue_comment_url\":\"https://api.github.com/repos/alibaba/weex/issues/comments{/number}\",\"contents_url\":\"https://api.github.com/repos/alibaba/weex/contents/{+path}\",\"compare_url\":\"https://api.github.com/repos/alibaba/weex/compare/{base}...{head}\",\"merges_url\":\"https://api.github.com/repos/alibaba/weex/merges\",\"archive_url\":\"https://api.github.com/repos/alibaba/weex/{archive_format}{/ref}\",\"downloads_url\":\"https://api.github.com/repos/alibaba/weex/downloads\",\"issues_url\":\"https://api.github.com/repos/alibaba/weex/issues{/number}\",\"pulls_url\":\"https://api.github.com/repos/alibaba/weex/pulls{/number}\",\"milestones_url\":\"https://api.github.com/repos/alibaba/weex/milestones{/number}\",\"notifications_url\":\"https://api.github.com/repos/alibaba/weex/notifications{?since,all,participating}\",\"labels_url\":\"https://api.github.com/repos/alibaba/weex/labels{/name}\",\"releases_url\":\"https://api.github.com/repos/alibaba/weex/releases{/id}\",\"deployments_url\":\"https://api.github.com/repos/alibaba/weex/deployments\",\"created_at\":\"2016-03-11T10:18:11Z\",\"updated_at\":\"2017-02-20T03:19:37Z\",\"pushed_at\":\"2017-02-20T03:18:35Z\",\"git_url\":\"git://github.com/alibaba/weex.git\",\"ssh_url\":\"git@github.com:alibaba/weex.git\",\"clone_url\":\"https://github.com/alibaba/weex.git\",\"svn_url\":\"https://github.com/alibaba/weex\",\"homepage\":\"https://weex-project.io/\",\"size\":119249,\"stargazers_count\":12784,\"watchers_count\":12784,\"language\":\"Java\",\"has_issues\":true,\"has_downloads\":true,\"has_wiki\":true,\"has_pages\":true,\"forks_count\":1767,\"mirror_url\":null,\"open_issues_count\":251,\"forks\":1767,\"open_issues\":251,\"watchers\":12784,\"default_branch\":\"dev\"}},\"_links\":{\"self\":{\"href\":\"https://api.github.com/repos/alibaba/weex/pulls/2655\"},\"html\":{\"href\":\"https://github.com/alibaba/weex/pull/2655\"},\"issue\":{\"href\":\"https://api.github.com/repos/alibaba/weex/issues/2655\"},\"comments\":{\"href\":\"https://api.github.com/repos/alibaba/weex/issues/2655/comments\"},\"review_comments\":{\"href\":\"https://api.github.com/repos/alibaba/weex/pulls/2655/comments\"},\"review_comment\":{\"href\":\"https://api.github.com/repos/alibaba/weex/pulls/comments{/number}\"},\"commits\":{\"href\":\"https://api.github.com/repos/alibaba/weex/pulls/2655/commits\"},\"statuses\":{\"href\":\"https://api.github.com/repos/alibaba/weex/statuses/e5025346ec991b00832fcafc146b17c2c06d0893\"}},\"merged\":false,\"mergeable\":null,\"mergeable_state\":\"unknown\",\"merged_by\":null,\"comments\":0,\"review_comments\":0,\"maintainer_can_modify\":true,\"commits\":1,\"additions\":28,\"deletions\":12,\"changed_files\":1}},\"public\":true,\"created_at\":\"2017-02-20T03:21:44Z\",\"org\":{\"id\":1961952,\"login\":\"alibaba\",\"gravatar_id\":\"\",\"url\":\"https://api.github.com/orgs/alibaba\",\"avatar_url\":\"https://avatars.githubusercontent.com/u/1961952?\"}},{\"id\":\"5353072827\",\"type\":\"CreateEvent\",\"actor\":{\"id\":18218629,\"login\":\"swathirs\",\"display_login\":\"swathirs\",\"gravatar_id\":\"\",\"url\":\"https://api.github.com/users/swathirs\",\"avatar_url\":\"https://avatars.githubusercontent.com/u/18218629?\"},\"repo\":{\"id\":80807155,\"name\":\"swathirs/GameBoggle\",\"url\":\"https://api.github.com/repos/swathirs/GameBoggle\"},\"payload\":{\"ref\":\"feature/multiple-rounds/swathi\",\"ref_type\":\"branch\",\"master_branch\":\"master\",\"description\":\"This is an android game.\",\"pusher_type\":\"user\"},\"public\":true,\"created_at\":\"2017-02-20T03:21:44Z\"},{\"id\":\"5353072825\",\"type\":\"DeleteEvent\",\"actor\":{\"id\":16028562,\"login\":\"YYxDeveloper\",\"display_login\":\"YYxDeveloper\",\"gravatar_id\":\"\",\"url\":\"https://api.github.com/users/YYxDeveloper\",\"avatar_url\":\"https://avatars.githubusercontent.com/u/16028562?\"},\"repo\":{\"id\":81538936,\"name\":\"YYxDeveloper/YYxEXTENSION\",\"url\":\"https://api.github.com/repos/YYxDeveloper/YYxEXTENSION\"},\"payload\":{\"ref\":\"hh\",\"ref_type\":\"branch\",\"pusher_type\":\"user\"},\"public\":true,\"created_at\":\"2017-02-20T03:21:44Z\"},{\"id\":\"5353072822\",\"type\":\"PushEvent\",\"actor\":{\"id\":8517910,\"login\":\"LombiqBot\",\"display_login\":\"LombiqBot\",\"gravatar_id\":\"\",\"url\":\"https://api.github.com/users/LombiqBot\",\"avatar_url\":\"https://avatars.githubusercontent.com/u/8517910?\"},\"repo\":{\"id\":46624441,\"name\":\"Lombiq/Orchard-Azure-Indexing\",\"url\":\"https://api.github.com/repos/Lombiq/Orchard-Azure-Indexing\"},\"payload\":{\"push_id\":1567029517,\"size\":0,\"distinct_size\":0,\"ref\":\"refs/heads/orchard-upgrade-1.9.2\",\"head\":\"9e8cc642ed2f73d5f67eaf44ba04fe9b7f29b513\",\"before\":\"9e8cc642ed2f73d5f67eaf44ba04fe9b7f29b513\",\"commits\":[]},\"public\":true,\"created_at\":\"2017-02-20T03:21:44Z\",\"org\":{\"id\":8158177,\"login\":\"Lombiq\",\"gravatar_id\":\"\",\"url\":\"https://api.github.com/orgs/Lombiq\",\"avatar_url\":\"https://avatars.githubusercontent.com/u/8158177?\"}},{\"id\":\"5353072820\",\"type\":\"PushEvent\",\"actor\":{\"id\":8871124,\"login\":\"HAOGRE\",\"display_login\":\"HAOGRE\",\"gravatar_id\":\"\",\"url\":\"https://api.github.com/users/HAOGRE\",\"avatar_url\":\"https://avatars.githubusercontent.com/u/8871124?\"},\"repo\":{\"id\":79212822,\"name\":\"HAOGRE/fullgithistory\",\"url\":\"https://api.github.com/repos/HAOGRE/fullgithistory\"},\"payload\":{\"push_id\":1567029516,\"size\":1,\"distinct_size\":1,\"ref\":\"refs/heads/master\",\"head\":\"724b006e24a7f6aa085efdc90d3e96c896e30c8a\",\"before\":\"7774bde4089174bdfa83e0793065d4809a3925b1\",\"commits\":[{\"sha\":\"724b006e24a7f6aa085efdc90d3e96c896e30c8a\",\"author\":{\"email\":\"haogre@gmail.com\",\"name\":\"HAOGRE\"},\"message\":\"fullgit\",\"distinct\":true,\"url\":\"https://api.github.com/repos/HAOGRE/fullgithistory/commits/724b006e24a7f6aa085efdc90d3e96c896e30c8a\"}]},\"public\":true,\"created_at\":\"2017-02-20T03:21:43Z\"},{\"id\":\"5353072819\",\"type\":\"WatchEvent\",\"actor\":{\"id\":25890601,\"login\":\"huojibufei\",\"display_login\":\"huojibufei\",\"gravatar_id\":\"\",\"url\":\"https://api.github.com/users/huojibufei\",\"avatar_url\":\"https://avatars.githubusercontent.com/u/25890601?\"},\"repo\":{\"id\":52937611,\"name\":\"zptcsoft/zptcsoft.github.io\",\"url\":\"https://api.github.com/repos/zptcsoft/zptcsoft.github.io\"},\"payload\":{\"action\":\"started\"},\"public\":true,\"created_at\":\"2017-02-20T03:21:43Z\"},{\"id\":\"5353072815\",\"type\":\"PushEvent\",\"actor\":{\"id\":3971452,\"login\":\"Jeralane\",\"display_login\":\"Jeralane\",\"gravatar_id\":\"\",\"url\":\"https://api.github.com/users/Jeralane\",\"avatar_url\":\"https://avatars.githubusercontent.com/u/3971452?\"},\"repo\":{\"id\":36102517,\"name\":\"Jeralane/scco\",\"url\":\"https://api.github.com/repos/Jeralane/scco\"},\"payload\":{\"push_id\":1567029514,\"size\":1,\"distinct_size\":1,\"ref\":\"refs/heads/develop\",\"head\":\"91b015ef3d8337112b394975723d776883bf2970\",\"before\":\"95b26d56e0f742df03fdd52595ce462ef2eddc70\",\"commits\":[{\"sha\":\"91b015ef3d8337112b394975723d776883bf2970\",\"author\":{\"email\":\"tbki_jea@yahoo.com\",\"name\":\"Jeralane\"},\"message\":\"v2.3.3.0\\\\n\\\\n* Member Information Report - Member List by Classification\",\"distinct\":true,\"url\":\"https://api.github.com/repos/Jeralane/scco/commits/91b015ef3d8337112b394975723d776883bf2970\"}]},\"public\":true,\"created_at\":\"2017-02-20T03:21:43Z\"},{\"id\":\"5353072811\",\"type\":\"DeleteEvent\",\"actor\":{\"id\":219043,\"login\":\"jcfr\",\"display_login\":\"jcfr\",\"gravatar_id\":\"\",\"url\":\"https://api.github.com/users/jcfr\",\"avatar_url\":\"https://avatars.githubusercontent.com/u/219043?\"},\"repo\":{\"id\":82427276,\"name\":\"jcfr/github-release-test\",\"url\":\"https://api.github.com/repos/jcfr/github-release-test\"},\"payload\":{\"ref\":\"1.0.0\",\"ref_type\":\"tag\",\"pusher_type\":\"user\"},\"public\":true,\"created_at\":\"2017-02-20T03:21:43Z\"},{\"id\":\"5353072810\",\"type\":\"CreateEvent\",\"actor\":{\"id\":25890831,\"login\":\"chen0704\",\"display_login\":\"chen0704\",\"gravatar_id\":\"\",\"url\":\"https://api.github.com/users/chen0704\",\"avatar_url\":\"https://avatars.githubusercontent.com/u/25890831?\"},\"repo\":{\"id\":82512246,\"name\":\"chen0704/chen0704.github.io\",\"url\":\"https://api.github.com/repos/chen0704/chen0704.github.io\"},\"payload\":{\"ref\":null,\"ref_type\":\"repository\",\"master_branch\":\"master\",\"description\":\"explain\",\"pusher_type\":\"user\"},\"public\":true,\"created_at\":\"2017-02-20T03:21:43Z\"},{\"id\":\"5353072804\",\"type\":\"PushEvent\",\"actor\":{\"id\":19476232,\"login\":\"tyluudinh\",\"display_login\":\"tyluudinh\",\"gravatar_id\":\"\",\"url\":\"https://api.github.com/users/tyluudinh\",\"avatar_url\":\"https://avatars.githubusercontent.com/u/19476232?\"},\"repo\":{\"id\":81578784,\"name\":\"KhoaLuan2017/Code\",\"url\":\"https://api.github.com/repos/KhoaLuan2017/Code\"},\"payload\":{\"push_id\":1567029511,\"size\":1,\"distinct_size\":1,\"ref\":\"refs/heads/master\",\"head\":\"c80add0d1f8ff24b634cc850d935dfd2b856c3f8\",\"before\":\"b1da8aab5289c754ecd2f272245c2f9b2261ca0b\",\"commits\":[{\"sha\":\"c80add0d1f8ff24b634cc850d935dfd2b856c3f8\",\"author\":{\"email\":\"dinhty.luu@gmail.com\",\"name\":\"TyLuu\"},\"message\":\"Update page login for radius\",\"distinct\":true,\"url\":\"https://api.github.com/repos/KhoaLuan2017/Code/commits/c80add0d1f8ff24b634cc850d935dfd2b856c3f8\"}]},\"public\":true,\"created_at\":\"2017-02-20T03:21:43Z\",\"org\":{\"id\":25690242,\"login\":\"KhoaLuan2017\",\"gravatar_id\":\"\",\"url\":\"https://api.github.com/orgs/KhoaLuan2017\",\"avatar_url\":\"https://avatars.githubusercontent.com/u/25690242?\"}},{\"id\":\"5353072795\",\"type\":\"PushEvent\",\"actor\":{\"id\":5037510,\"login\":\"lrutter\",\"display_login\":\"lrutter\",\"gravatar_id\":\"\",\"url\":\"https://api.github.com/users/lrutter\",\"avatar_url\":\"https://avatars.githubusercontent.com/u/5037510?\"},\"repo\":{\"id\":52834920,\"name\":\"lrutter/ggenealogyPaper\",\"url\":\"https://api.github.com/repos/lrutter/ggenealogyPaper\"},\"payload\":{\"push_id\":1567029510,\"size\":1,\"distinct_size\":1,\"ref\":\"refs/heads/master\",\"head\":\"6704171c05ddb82909ba3df7790629542e7b92e1\",\"before\":\"ff14452f978fb70a4461f3d18d5f878c9b5481e4\",\"commits\":[{\"sha\":\"6704171c05ddb82909ba3df7790629542e7b92e1\",\"author\":{\"email\":\"lindsayannerutter@gmail.com\",\"name\":\"Lindsay Rutter\"},\"message\":\"Editor update from 2/16/17\",\"distinct\":true,\"url\":\"https://api.github.com/repos/lrutter/ggenealogyPaper/commits/6704171c05ddb82909ba3df7790629542e7b92e1\"}]},\"public\":true,\"created_at\":\"2017-02-20T03:21:43Z\"},{\"id\":\"5353072792\",\"type\":\"PushEvent\",\"actor\":{\"id\":23694395,\"login\":\"OPSTest\",\"display_login\":\"OPSTest\",\"gravatar_id\":\"\",\"url\":\"https://api.github.com/users/OPSTest\",\"avatar_url\":\"https://avatars.githubusercontent.com/u/23694395?\"},\"repo\":{\"id\":77417820,\"name\":\"OPSTest/E2E_DocsBranch_Prod\",\"url\":\"https://api.github.com/repos/OPSTest/E2E_DocsBranch_Prod\"},\"payload\":{\"push_id\":1567029507,\"size\":1,\"distinct_size\":1,\"ref\":\"refs/heads/prSuccess-e2e\",\"head\":\"83a08fa8d79b4bc65c814241ff9cc5cb02f453e9\",\"before\":\"5b87dbe364ce1fced409c6e86dd325e9eee8cbe7\",\"commits\":[{\"sha\":\"83a08fa8d79b4bc65c814241ff9cc5cb02f453e9\",\"author\":{\"email\":\"OPSE2ETesting@outlook.com\",\"name\":\"OPSTest\"},\"message\":\"e2e: pr success testMon, 20 Feb 2017 03:21:00 GMT\",\"distinct\":true,\"url\":\"https://api.github.com/repos/OPSTest/E2E_DocsBranch_Prod/commits/83a08fa8d79b4bc65c814241ff9cc5cb02f453e9\"}]},\"public\":true,\"created_at\":\"2017-02-20T03:21:43Z\"},{\"id\":\"5353072787\",\"type\":\"WatchEvent\",\"actor\":{\"id\":8869577,\"login\":\"jiangzq1023\",\"display_login\":\"jiangzq1023\",\"gravatar_id\":\"\",\"url\":\"https://api.github.com/users/jiangzq1023\",\"avatar_url\":\"https://avatars.githubusercontent.com/u/8869577?\"},\"repo\":{\"id\":77022333,\"name\":\"caiwenhao/kube-addons\",\"url\":\"https://api.github.com/repos/caiwenhao/kube-addons\"},\"payload\":{\"action\":\"started\"},\"public\":true,\"created_at\":\"2017-02-20T03:21:43Z\"},{\"id\":\"5353072786\",\"type\":\"PullRequestEvent\",\"actor\":{\"id\":1705624,\"login\":\"jags14385\",\"display_login\":\"jags14385\",\"gravatar_id\":\"\",\"url\":\"https://api.github.com/users/jags14385\",\"avatar_url\":\"https://avatars.githubusercontent.com/u/1705624?\"},\"repo\":{\"id\":50963631,\"name\":\"cevoaustralia/cevoaustralia.github.io\",\"url\":\"https://api.github.com/repos/cevoaustralia/cevoaustralia.github.io\"},\"payload\":{\"action\":\"opened\",\"number\":46,\"pull_request\":{\"url\":\"https://api.github.com/repos/cevoaustralia/cevoaustralia.github.io/pulls/46\",\"id\":106933962,\"html_url\":\"https://github.com/cevoaustralia/cevoaustralia.github.io/pull/46\",\"diff_url\":\"https://github.com/cevoaustralia/cevoaustralia.github.io/pull/46.diff\",\"patch_url\":\"https://github.com/cevoaustralia/cevoaustralia.github.io/pull/46.patch\",\"issue_url\":\"https://api.github.com/repos/cevoaustralia/cevoaustralia.github.io/issues/46\",\"number\":46,\"state\":\"open\",\"locked\":false,\"title\":\"Adding bio\",\"user\":{\"login\":\"jags14385\",\"id\":1705624,\"avatar_url\":\"https://avatars.githubusercontent.com/u/1705624?v=3\",\"gravatar_id\":\"\",\"url\":\"https://api.github.com/users/jags14385\",\"html_url\":\"https://github.com/jags14385\",\"followers_url\":\"https://api.github.com/users/jags14385/followers\",\"following_url\":\"https://api.github.com/users/jags14385/following{/other_user}\",\"gists_url\":\"https://api.github.com/users/jags14385/gists{/gist_id}\",\"starred_url\":\"https://api.github.com/users/jags14385/starred{/owner}{/repo}\",\"subscriptions_url\":\"https://api.github.com/users/jags14385/subscriptions\",\"organizations_url\":\"https://api.github.com/users/jags14385/orgs\",\"repos_url\":\"https://api.github.com/users/jags14385/repos\",\"events_url\":\"https://api.github.com/users/jags14385/events{/privacy}\",\"received_events_url\":\"https://api.github.com/users/jags14385/received_events\",\"type\":\"User\",\"site_admin\":false},\"body\":\"* Adding bio of James Strain\\\\r\\\\n* Adding bio of Jagannath\",\"created_at\":\"2017-02-20T03:21:42Z\",\"updated_at\":\"2017-02-20T03:21:42Z\",\"closed_at\":null,\"merged_at\":null,\"merge_commit_sha\":null,\"assignee\":null,\"assignees\":[],\"milestone\":null,\"commits_url\":\"https://api.github.com/repos/cevoaustralia/cevoaustralia.github.io/pulls/46/commits\",\"review_comments_url\":\"https://api.github.com/repos/cevoaustralia/cevoaustralia.github.io/pulls/46/comments\",\"review_comment_url\":\"https://api.github.com/repos/cevoaustralia/cevoaustralia.github.io/pulls/comments{/number}\",\"comments_url\":\"https://api.github.com/repos/cevoaustralia/cevoaustralia.github.io/issues/46/comments\",\"statuses_url\":\"https://api.github.com/repos/cevoaustralia/cevoaustralia.github.io/statuses/663917fc0d4d294ca28f894ac3748ce24c6ff1be\",\"head\":{\"label\":\"cevoaustralia:develop\",\"ref\":\"develop\",\"sha\":\"663917fc0d4d294ca28f894ac3748ce24c6ff1be\",\"user\":{\"login\":\"cevoaustralia\",\"id\":17036633,\"avatar_url\":\"https://avatars.githubusercontent.com/u/17036633?v=3\",\"gravatar_id\":\"\",\"url\":\"https://api.github.com/users/cevoaustralia\",\"html_url\":\"https://github.com/cevoaustralia\",\"followers_url\":\"https://api.github.com/users/cevoaustralia/followers\",\"following_url\":\"https://api.github.com/users/cevoaustralia/following{/other_user}\",\"gists_url\":\"https://api.github.com/users/cevoaustralia/gists{/gist_id}\",\"starred_url\":\"https://api.github.com/users/cevoaustralia/starred{/owner}{/repo}\",\"subscriptions_url\":\"https://api.github.com/users/cevoaustralia/subscriptions\",\"organizations_url\":\"https://api.github.com/users/cevoaustralia/orgs\",\"repos_url\":\"https://api.github.com/users/cevoaustralia/repos\",\"events_url\":\"https://api.github.com/users/cevoaustralia/events{/privacy}\",\"received_events_url\":\"https://api.github.com/users/cevoaustralia/received_events\",\"type\":\"Organization\",\"site_admin\":false},\"repo\":{\"id\":50963631,\"name\":\"cevoaustralia.github.io\",\"full_name\":\"cevoaustralia/cevoaustralia.github.io\",\"owner\":{\"login\":\"cevoaustralia\",\"id\":17036633,\"avatar_url\":\"https://avatars.githubusercontent.com/u/17036633?v=3\",\"gravatar_id\":\"\",\"url\":\"https://api.github.com/users/cevoaustralia\",\"html_url\":\"https://github.com/cevoaustralia\",\"followers_url\":\"https://api.github.com/users/cevoaustralia/followers\",\"following_url\":\"https://api.github.com/users/cevoaustralia/following{/other_user}\",\"gists_url\":\"https://api.github.com/users/cevoaustralia/gists{/gist_id}\",\"starred_url\":\"https://api.github.com/users/cevoaustralia/starred{/owner}{/repo}\",\"subscriptions_url\":\"https://api.github.com/users/cevoaustralia/subscriptions\",\"organizations_url\":\"https://api.github.com/users/cevoaustralia/orgs\",\"repos_url\":\"https://api.github.com/users/cevoaustralia/repos\",\"events_url\":\"https://api.github.com/users/cevoaustralia/events{/privacy}\",\"received_events_url\":\"https://api.github.com/users/cevoaustralia/received_events\",\"type\":\"Organization\",\"site_admin\":false},\"private\":false,\"html_url\":\"https://github.com/cevoaustralia/cevoaustralia.github.io\",\"description\":\"Jekyll website for cevo.com.au\",\"fork\":false,\"url\":\"https://api.github.com/repos/cevoaustralia/cevoaustralia.github.io\",\"forks_url\":\"https://api.github.com/repos/cevoaustralia/cevoaustralia.github.io/forks\",\"keys_url\":\"https://api.github.com/repos/cevoaustralia/cevoaustralia.github.io/keys{/key_id}\",\"collaborators_url\":\"https://api.github.com/repos/cevoaustralia/cevoaustralia.github.io/collaborators{/collaborator}\",\"teams_url\":\"https://api.github.com/repos/cevoaustralia/cevoaustralia.github.io/teams\",\"hooks_url\":\"https://api.github.com/repos/cevoaustralia/cevoaustralia.github.io/hooks\",\"issue_events_url\":\"https://api.github.com/repos/cevoaustralia/cevoaustralia.github.io/issues/events{/number}\",\"events_url\":\"https://api.github.com/repos/cevoaustralia/cevoaustralia.github.io/events\",\"assignees_url\":\"https://api.github.com/repos/cevoaustralia/cevoaustralia.github.io/assignees{/user}\",\"branches_url\":\"https://api.github.com/repos/cevoaustralia/cevoaustralia.github.io/branches{/branch}\",\"tags_url\":\"https://api.github.com/repos/cevoaustralia/cevoaustralia.github.io/tags\",\"blobs_url\":\"https://api.github.com/repos/cevoaustralia/cevoaustralia.github.io/git/blobs{/sha}\",\"git_tags_url\":\"https://api.github.com/repos/cevoaustralia/cevoaustralia.github.io/git/tags{/sha}\",\"git_refs_url\":\"https://api.github.com/repos/cevoaustralia/cevoaustralia.github.io/git/refs{/sha}\",\"trees_url\":\"https://api.github.com/repos/cevoaustralia/cevoaustralia.github.io/git/trees{/sha}\",\"statuses_url\":\"https://api.github.com/repos/cevoaustralia/cevoaustralia.github.io/statuses/{sha}\",\"languages_url\":\"https://api.github.com/repos/cevoaustralia/cevoaustralia.github.io/languages\",\"stargazers_url\":\"https://api.github.com/repos/cevoaustralia/cevoaustralia.github.io/stargazers\",\"contributors_url\":\"https://api.github.com/repos/cevoaustralia/cevoaustralia.github.io/contributors\",\"subscribers_url\":\"https://api.github.com/repos/cevoaustralia/cevoaustralia.github.io/subscribers\",\"subscription_url\":\"https://api.github.com/repos/cevoaustralia/cevoaustralia.github.io/subscription\",\"commits_url\":\"https://api.github.com/repos/cevoaustralia/cevoaustralia.github.io/commits{/sha}\",\"git_commits_url\":\"https://api.github.com/repos/cevoaustralia/cevoaustralia.github.io/git/commits{/sha}\",\"comments_url\":\"https://api.github.com/repos/cevoaustralia/cevoaustralia.github.io/comments{/number}\",\"issue_comment_url\":\"https://api.github.com/repos/cevoaustralia/cevoaustralia.github.io/issues/comments{/number}\",\"contents_url\":\"https://api.github.com/repos/cevoaustralia/cevoaustralia.github.io/contents/{+path}\",\"compare_url\":\"https://api.github.com/repos/cevoaustralia/cevoaustralia.github.io/compare/{base}...{head}\",\"merges_url\":\"https://api.github.com/repos/cevoaustralia/cevoaustralia.github.io/merges\",\"archive_url\":\"https://api.github.com/repos/cevoaustralia/cevoaustralia.github.io/{archive_format}{/ref}\",\"downloads_url\":\"https://api.github.com/repos/cevoaustralia/cevoaustralia.github.io/downloads\",\"issues_url\":\"https://api.github.com/repos/cevoaustralia/cevoaustralia.github.io/issues{/number}\",\"pulls_url\":\"https://api.github.com/repos/cevoaustralia/cevoaustralia.github.io/pulls{/number}\",\"milestones_url\":\"https://api.github.com/repos/cevoaustralia/cevoaustralia.github.io/milestones{/number}\",\"notifications_url\":\"https://api.github.com/repos/cevoaustralia/cevoaustralia.github.io/notifications{?since,all,participating}\",\"labels_url\":\"https://api.github.com/repos/cevoaustralia/cevoaustralia.github.io/labels{/name}\",\"releases_url\":\"https://api.github.com/repos/cevoaustralia/cevoaustralia.github.io/releases{/id}\",\"deployments_url\":\"https://api.github.com/repos/cevoaustralia/cevoaustralia.github.io/deployments\",\"created_at\":\"2016-02-03T01:01:46Z\",\"updated_at\":\"2016-12-08T02:39:29Z\",\"pushed_at\":\"2017-02-20T02:58:56Z\",\"git_url\":\"git://github.com/cevoaustralia/cevoaustralia.github.io.git\",\"ssh_url\":\"git@github.com:cevoaustralia/cevoaustralia.github.io.git\",\"clone_url\":\"https://github.com/cevoaustralia/cevoaustralia.github.io.git\",\"svn_url\":\"https://github.com/cevoaustralia/cevoaustralia.github.io\",\"homepage\":\"\",\"size\":63770,\"stargazers_count\":4,\"watchers_count\":4,\"language\":\"CSS\",\"has_issues\":true,\"has_downloads\":true,\"has_wiki\":true,\"has_pages\":true,\"forks_count\":5,\"mirror_url\":null,\"open_issues_count\":1,\"forks\":5,\"open_issues\":1,\"watchers\":4,\"default_branch\":\"develop\"}},\"base\":{\"label\":\"cevoaustralia:master\",\"ref\":\"master\",\"sha\":\"e61866bd1213c7b8bba5fceeeaaf59d4f38607ed\",\"user\":{\"login\":\"cevoaustralia\",\"id\":17036633,\"avatar_url\":\"https://avatars.githubusercontent.com/u/17036633?v=3\",\"gravatar_id\":\"\",\"url\":\"https://api.github.com/users/cevoaustralia\",\"html_url\":\"https://github.com/cevoaustralia\",\"followers_url\":\"https://api.github.com/users/cevoaustralia/followers\",\"following_url\":\"https://api.github.com/users/cevoaustralia/following{/other_user}\",\"gists_url\":\"https://api.github.com/users/cevoaustralia/gists{/gist_id}\",\"starred_url\":\"https://api.github.com/users/cevoaustralia/starred{/owner}{/repo}\",\"subscriptions_url\":\"https://api.github.com/users/cevoaustralia/subscriptions\",\"organizations_url\":\"https://api.github.com/users/cevoaustralia/orgs\",\"repos_url\":\"https://api.github.com/users/cevoaustralia/repos\",\"events_url\":\"https://api.github.com/users/cevoaustralia/events{/privacy}\",\"received_events_url\":\"https://api.github.com/users/cevoaustralia/received_events\",\"type\":\"Organization\",\"site_admin\":false},\"repo\":{\"id\":50963631,\"name\":\"cevoaustralia.github.io\",\"full_name\":\"cevoaustralia/cevoaustralia.github.io\",\"owner\":{\"login\":\"cevoaustralia\",\"id\":17036633,\"avatar_url\":\"https://avatars.githubusercontent.com/u/17036633?v=3\",\"gravatar_id\":\"\",\"url\":\"https://api.github.com/users/cevoaustralia\",\"html_url\":\"https://github.com/cevoaustralia\",\"followers_url\":\"https://api.github.com/users/cevoaustralia/followers\",\"following_url\":\"https://api.github.com/users/cevoaustralia/following{/other_user}\",\"gists_url\":\"https://api.github.com/users/cevoaustralia/gists{/gist_id}\",\"starred_url\":\"https://api.github.com/users/cevoaustralia/starred{/owner}{/repo}\",\"subscriptions_url\":\"https://api.github.com/users/cevoaustralia/subscriptions\",\"organizations_url\":\"https://api.github.com/users/cevoaustralia/orgs\",\"repos_url\":\"https://api.github.com/users/cevoaustralia/repos\",\"events_url\":\"https://api.github.com/users/cevoaustralia/events{/privacy}\",\"received_events_url\":\"https://api.github.com/users/cevoaustralia/received_events\",\"type\":\"Organization\",\"site_admin\":false},\"private\":false,\"html_url\":\"https://github.com/cevoaustralia/cevoaustralia.github.io\",\"description\":\"Jekyll website for cevo.com.au\",\"fork\":false,\"url\":\"https://api.github.com/repos/cevoaustralia/cevoaustralia.github.io\",\"forks_url\":\"https://api.github.com/repos/cevoaustralia/cevoaustralia.github.io/forks\",\"keys_url\":\"https://api.github.com/repos/cevoaustralia/cevoaustralia.github.io/keys{/key_id}\",\"collaborators_url\":\"https://api.github.com/repos/cevoaustralia/cevoaustralia.github.io/collaborators{/collaborator}\",\"teams_url\":\"https://api.github.com/repos/cevoaustralia/cevoaustralia.github.io/teams\",\"hooks_url\":\"https://api.github.com/repos/cevoaustralia/cevoaustralia.github.io/hooks\",\"issue_events_url\":\"https://api.github.com/repos/cevoaustralia/cevoaustralia.github.io/issues/events{/number}\",\"events_url\":\"https://api.github.com/repos/cevoaustralia/cevoaustralia.github.io/events\",\"assignees_url\":\"https://api.github.com/repos/cevoaustralia/cevoaustralia.github.io/assignees{/user}\",\"branches_url\":\"https://api.github.com/repos/cevoaustralia/cevoaustralia.github.io/branches{/branch}\",\"tags_url\":\"https://api.github.com/repos/cevoaustralia/cevoaustralia.github.io/tags\",\"blobs_url\":\"https://api.github.com/repos/cevoaustralia/cevoaustralia.github.io/git/blobs{/sha}\",\"git_tags_url\":\"https://api.github.com/repos/cevoaustralia/cevoaustralia.github.io/git/tags{/sha}\",\"git_refs_url\":\"https://api.github.com/repos/cevoaustralia/cevoaustralia.github.io/git/refs{/sha}\",\"trees_url\":\"https://api.github.com/repos/cevoaustralia/cevoaustralia.github.io/git/trees{/sha}\",\"statuses_url\":\"https://api.github.com/repos/cevoaustralia/cevoaustralia.github.io/statuses/{sha}\",\"languages_url\":\"https://api.github.com/repos/cevoaustralia/cevoaustralia.github.io/languages\",\"stargazers_url\":\"https://api.github.com/repos/cevoaustralia/cevoaustralia.github.io/stargazers\",\"contributors_url\":\"https://api.github.com/repos/cevoaustralia/cevoaustralia.github.io/contributors\",\"subscribers_url\":\"https://api.github.com/repos/cevoaustralia/cevoaustralia.github.io/subscribers\",\"subscription_url\":\"https://api.github.com/repos/cevoaustralia/cevoaustralia.github.io/subscription\",\"commits_url\":\"https://api.github.com/repos/cevoaustralia/cevoaustralia.github.io/commits{/sha}\",\"git_commits_url\":\"https://api.github.com/repos/cevoaustralia/cevoaustralia.github.io/git/commits{/sha}\",\"comments_url\":\"https://api.github.com/repos/cevoaustralia/cevoaustralia.github.io/comments{/number}\",\"issue_comment_url\":\"https://api.github.com/repos/cevoaustralia/cevoaustralia.github.io/issues/comments{/number}\",\"contents_url\":\"https://api.github.com/repos/cevoaustralia/cevoaustralia.github.io/contents/{+path}\",\"compare_url\":\"https://api.github.com/repos/cevoaustralia/cevoaustralia.github.io/compare/{base}...{head}\",\"merges_url\":\"https://api.github.com/repos/cevoaustralia/cevoaustralia.github.io/merges\",\"archive_url\":\"https://api.github.com/repos/cevoaustralia/cevoaustralia.github.io/{archive_format}{/ref}\",\"downloads_url\":\"https://api.github.com/repos/cevoaustralia/cevoaustralia.github.io/downloads\",\"issues_url\":\"https://api.github.com/repos/cevoaustralia/cevoaustralia.github.io/issues{/number}\",\"pulls_url\":\"https://api.github.com/repos/cevoaustralia/cevoaustralia.github.io/pulls{/number}\",\"milestones_url\":\"https://api.github.com/repos/cevoaustralia/cevoaustralia.github.io/milestones{/number}\",\"notifications_url\":\"https://api.github.com/repos/cevoaustralia/cevoaustralia.github.io/notifications{?since,all,participating}\",\"labels_url\":\"https://api.github.com/repos/cevoaustralia/cevoaustralia.github.io/labels{/name}\",\"releases_url\":\"https://api.github.com/repos/cevoaustralia/cevoaustralia.github.io/releases{/id}\",\"deployments_url\":\"https://api.github.com/repos/cevoaustralia/cevoaustralia.github.io/deployments\",\"created_at\":\"2016-02-03T01:01:46Z\",\"updated_at\":\"2016-12-08T02:39:29Z\",\"pushed_at\":\"2017-02-20T02:58:56Z\",\"git_url\":\"git://github.com/cevoaustralia/cevoaustralia.github.io.git\",\"ssh_url\":\"git@github.com:cevoaustralia/cevoaustralia.github.io.git\",\"clone_url\":\"https://github.com/cevoaustralia/cevoaustralia.github.io.git\",\"svn_url\":\"https://github.com/cevoaustralia/cevoaustralia.github.io\",\"homepage\":\"\",\"size\":63770,\"stargazers_count\":4,\"watchers_count\":4,\"language\":\"CSS\",\"has_issues\":true,\"has_downloads\":true,\"has_wiki\":true,\"has_pages\":true,\"forks_count\":5,\"mirror_url\":null,\"open_issues_count\":1,\"forks\":5,\"open_issues\":1,\"watchers\":4,\"default_branch\":\"develop\"}},\"_links\":{\"self\":{\"href\":\"https://api.github.com/repos/cevoaustralia/cevoaustralia.github.io/pulls/46\"},\"html\":{\"href\":\"https://github.com/cevoaustralia/cevoaustralia.github.io/pull/46\"},\"issue\":{\"href\":\"https://api.github.com/repos/cevoaustralia/cevoaustralia.github.io/issues/46\"},\"comments\":{\"href\":\"https://api.github.com/repos/cevoaustralia/cevoaustralia.github.io/issues/46/comments\"},\"review_comments\":{\"href\":\"https://api.github.com/repos/cevoaustralia/cevoaustralia.github.io/pulls/46/comments\"},\"review_comment\":{\"href\":\"https://api.github.com/repos/cevoaustralia/cevoaustralia.github.io/pulls/comments{/number}\"},\"commits\":{\"href\":\"https://api.github.com/repos/cevoaustralia/cevoaustralia.github.io/pulls/46/commits\"},\"statuses\":{\"href\":\"https://api.github.com/repos/cevoaustralia/cevoaustralia.github.io/statuses/663917fc0d4d294ca28f894ac3748ce24c6ff1be\"}},\"merged\":false,\"mergeable\":null,\"mergeable_state\":\"unknown\",\"merged_by\":null,\"comments\":0,\"review_comments\":0,\"maintainer_can_modify\":false,\"commits\":5,\"additions\":26,\"deletions\":0,\"changed_files\":3}},\"public\":true,\"created_at\":\"2017-02-20T03:21:42Z\",\"org\":{\"id\":17036633,\"login\":\"cevoaustralia\",\"gravatar_id\":\"\",\"url\":\"https://api.github.com/orgs/cevoaustralia\",\"avatar_url\":\"https://avatars.githubusercontent.com/u/17036633?\"}},{\"id\":\"5353072778\",\"type\":\"PushEvent\",\"actor\":{\"id\":20895964,\"login\":\"amtung\",\"display_login\":\"amtung\",\"gravatar_id\":\"\",\"url\":\"https://api.github.com/users/amtung\",\"avatar_url\":\"https://avatars.githubusercontent.com/u/20895964?\"},\"repo\":{\"id\":82340113,\"name\":\"C4Q/AC3.2-groupThree-ImmigrantServices\",\"url\":\"https://api.github.com/repos/C4Q/AC3.2-groupThree-ImmigrantServices\"},\"payload\":{\"push_id\":1567029502,\"size\":1,\"distinct_size\":1,\"ref\":\"refs/heads/temp\",\"head\":\"510d738274335c3a53ec6a23e95ba7a075fc09ed\",\"before\":\"9007ccf28cec1afa7aa783323dbbca3b96a915cd\",\"commits\":[{\"sha\":\"510d738274335c3a53ec6a23e95ba7a075fc09ed\",\"author\":{\"email\":\"annie.mmt@gmail.com\",\"name\":\"Annie\"},\"message\":\"added chinese translation\",\"distinct\":true,\"url\":\"https://api.github.com/repos/C4Q/AC3.2-groupThree-ImmigrantServices/commits/510d738274335c3a53ec6a23e95ba7a075fc09ed\"}]},\"public\":true,\"created_at\":\"2017-02-20T03:21:42Z\",\"org\":{\"id\":5825944,\"login\":\"C4Q\",\"gravatar_id\":\"\",\"url\":\"https://api.github.com/orgs/C4Q\",\"avatar_url\":\"https://avatars.githubusercontent.com/u/5825944?\"}},{\"id\":\"5353072770\",\"type\":\"PushEvent\",\"actor\":{\"id\":3290689,\"login\":\"palmoreck\",\"display_login\":\"palmoreck\",\"gravatar_id\":\"\",\"url\":\"https://api.github.com/users/palmoreck\",\"avatar_url\":\"https://avatars.githubusercontent.com/u/3290689?\"},\"repo\":{\"id\":79446942,\"name\":\"ITAM-DS/analisis-numerico-computo-cientifico\",\"url\":\"https://api.github.com/repos/ITAM-DS/analisis-numerico-computo-cientifico\"},\"payload\":{\"push_id\":1567029498,\"size\":1,\"distinct_size\":1,\"ref\":\"refs/heads/master\",\"head\":\"0f36f09358bb1f747e584ac997fad438169bcd2a\",\"before\":\"0f793dd3cf03d5dc8cef746ba123e8ec96246feb\",\"commits\":[{\"sha\":\"0f36f09358bb1f747e584ac997fad438169bcd2a\",\"author\":{\"email\":\"palmoreck@gmail.com\",\"name\":\"root\"},\"message\":\"fixing camilo commits :S\",\"distinct\":true,\"url\":\"https://api.github.com/repos/ITAM-DS/analisis-numerico-computo-cientifico/commits/0f36f09358bb1f747e584ac997fad438169bcd2a\"}]},\"public\":true,\"created_at\":\"2017-02-20T03:21:42Z\",\"org\":{\"id\":10421300,\"login\":\"ITAM-DS\",\"gravatar_id\":\"\",\"url\":\"https://api.github.com/orgs/ITAM-DS\",\"avatar_url\":\"https://avatars.githubusercontent.com/u/10421300?\"}},{\"id\":\"5353072769\",\"type\":\"PushEvent\",\"actor\":{\"id\":404356,\"login\":\"ahomu\",\"display_login\":\"ahomu\",\"gravatar_id\":\"\",\"url\":\"https://api.github.com/users/ahomu\",\"avatar_url\":\"https://avatars.githubusercontent.com/u/404356?\"},\"repo\":{\"id\":76733883,\"name\":\"insidefrontend/inside-frontend.com\",\"url\":\"https://api.github.com/repos/insidefrontend/inside-frontend.com\"},\"payload\":{\"push_id\":1567029497,\"size\":1,\"distinct_size\":1,\"ref\":\"refs/heads/master\",\"head\":\"2e69f0b70aaf9f8a543d38901d92dea7f6c720a3\",\"before\":\"135a7125aa9044f0f5a64554a92376914071b2c1\",\"commits\":[{\"sha\":\"2e69f0b70aaf9f8a543d38901d92dea7f6c720a3\",\"author\":{\"email\":\"mail@ayumusato.com\",\"name\":\"Ayumu Sato\"},\"message\":\"update TBDs\",\"distinct\":true,\"url\":\"https://api.github.com/repos/insidefrontend/inside-frontend.com/commits/2e69f0b70aaf9f8a543d38901d92dea7f6c720a3\"}]},\"public\":true,\"created_at\":\"2017-02-20T03:21:42Z\",\"org\":{\"id\":21092944,\"login\":\"insidefrontend\",\"gravatar_id\":\"\",\"url\":\"https://api.github.com/orgs/insidefrontend\",\"avatar_url\":\"https://avatars.githubusercontent.com/u/21092944?\"}},{\"id\":\"5353072759\",\"type\":\"PushEvent\",\"actor\":{\"id\":8517910,\"login\":\"LombiqBot\",\"display_login\":\"LombiqBot\",\"gravatar_id\":\"\",\"url\":\"https://api.github.com/users/LombiqBot\",\"avatar_url\":\"https://avatars.githubusercontent.com/u/8517910?\"},\"repo\":{\"id\":46624441,\"name\":\"Lombiq/Orchard-Azure-Indexing\",\"url\":\"https://api.github.com/repos/Lombiq/Orchard-Azure-Indexing\"},\"payload\":{\"push_id\":1567029494,\"size\":0,\"distinct_size\":0,\"ref\":\"refs/heads/orchard-upgrade-1.9.1\",\"head\":\"37142b51bbc24d73bff0f3df5dbdb421692349f1\",\"before\":\"37142b51bbc24d73bff0f3df5dbdb421692349f1\",\"commits\":[]},\"public\":true,\"created_at\":\"2017-02-20T03:21:42Z\",\"org\":{\"id\":8158177,\"login\":\"Lombiq\",\"gravatar_id\":\"\",\"url\":\"https://api.github.com/orgs/Lombiq\",\"avatar_url\":\"https://avatars.githubusercontent.com/u/8158177?\"}},{\"id\":\"5353072757\",\"type\":\"PushEvent\",\"actor\":{\"id\":3790514,\"login\":\"xizhonghua\",\"display_login\":\"xizhonghua\",\"gravatar_id\":\"\",\"url\":\"https://api.github.com/users/xizhonghua\",\"avatar_url\":\"https://avatars.githubusercontent.com/u/3790514?\"},\"repo\":{\"id\":80600466,\"name\":\"xizhonghua/threecpp\",\"url\":\"https://api.github.com/repos/xizhonghua/threecpp\"},\"payload\":{\"push_id\":1567029493,\"size\":1,\"distinct_size\":1,\"ref\":\"refs/heads/master\",\"head\":\"5bdc3b4e408b2df596a956f4e6bcfe5973166b3f\",\"before\":\"8165a302ee70c8bd91c129bf7c4605545921a0ca\",\"commits\":[{\"sha\":\"5bdc3b4e408b2df596a956f4e6bcfe5973166b3f\",\"author\":{\"email\":\"xizhonghua@gmail.com\",\"name\":\"Zhonghua Xi\"},\"message\":\"Update README.md\",\"distinct\":true,\"url\":\"https://api.github.com/repos/xizhonghua/threecpp/commits/5bdc3b4e408b2df596a956f4e6bcfe5973166b3f\"}]},\"public\":true,\"created_at\":\"2017-02-20T03:21:42Z\"},{\"id\":\"5353072752\",\"type\":\"PushEvent\",\"actor\":{\"id\":5626299,\"login\":\"muthu07\",\"display_login\":\"muthu07\",\"gravatar_id\":\"\",\"url\":\"https://api.github.com/users/muthu07\",\"avatar_url\":\"https://avatars.githubusercontent.com/u/5626299?\"},\"repo\":{\"id\":82511870,\"name\":\"muthu07/golbal_npm_install\",\"url\":\"https://api.github.com/repos/muthu07/golbal_npm_install\"},\"payload\":{\"push_id\":1567029491,\"size\":1,\"distinct_size\":1,\"ref\":\"refs/heads/master\",\"head\":\"828252947c7ed6c158b2f66539d9ef66ffa5b4ec\",\"before\":\"c4eee949923c9f0acaa13840a57e70b3ab2b6e1d\",\"commits\":[{\"sha\":\"828252947c7ed6c158b2f66539d9ef66ffa5b4ec\",\"author\":{\"email\":\"mailformuthu07@gmail.com\",\"name\":\"Muthu Elumalai\"},\"message\":\"-G\\\\n\\\\nFiles to access golbal node packages\",\"distinct\":true,\"url\":\"https://api.github.com/repos/muthu07/golbal_npm_install/commits/828252947c7ed6c158b2f66539d9ef66ffa5b4ec\"}]},\"public\":true,\"created_at\":\"2017-02-20T03:21:42Z\"},{\"id\":\"5353072751\",\"type\":\"PushEvent\",\"actor\":{\"id\":57483,\"login\":\"tmtmtmtm\",\"display_login\":\"tmtmtmtm\",\"gravatar_id\":\"\",\"url\":\"https://api.github.com/users/tmtmtmtm\",\"avatar_url\":\"https://avatars.githubusercontent.com/u/57483?\"},\"repo\":{\"id\":70729765,\"name\":\"everypolitician-scrapers/korea-assembly\",\"url\":\"https://api.github.com/repos/everypolitician-scrapers/korea-assembly\"},\"payload\":{\"push_id\":1567029490,\"size\":1,\"distinct_size\":1,\"ref\":\"refs/heads/scraped-pages-archive\",\"head\":\"68923e086715db386537cee67e6e389d311a7f5c\",\"before\":\"7b4fb9db9caa09dba17ccb639eaeec3219cc61f5\",\"commits\":[{\"sha\":\"68923e086715db386537cee67e6e389d311a7f5c\",\"author\":{\"email\":\"scraped_page_archive-0.5.0@scrapers.everypolitician.org\",\"name\":\"scraped_page_archive gem 0.5.0\"},\"message\":\"200 OK http://www.assembly.go.kr/assm/memPop/memPopup.do?dept_cd=9770372\",\"distinct\":true,\"url\":\"https://api.github.com/repos/everypolitician-scrapers/korea-assembly/commits/68923e086715db386537cee67e6e389d311a7f5c\"}]},\"public\":true,\"created_at\":\"2017-02-20T03:21:41Z\",\"org\":{\"id\":18443033,\"login\":\"everypolitician-scrapers\",\"gravatar_id\":\"\",\"url\":\"https://api.github.com/orgs/everypolitician-scrapers\",\"avatar_url\":\"https://avatars.githubusercontent.com/u/18443033?\"}}]'"
      ]
     },
     "execution_count": 14,
     "metadata": {},
     "output_type": "execute_result"
    }
   ],
   "source": [
    "r = requests.get('https://api.github.com/events')\n",
    "r.text"
   ]
  },
  {
   "cell_type": "markdown",
   "metadata": {},
   "source": [
    "### Request makes educated guesses about the encoding of the response based on the HTTP headers. The text encoding guessed by Requests is used when you access r.text. You can find out what encoding Requests is using, and change it, using the r.encoding property."
   ]
  },
  {
   "cell_type": "code",
   "execution_count": 15,
   "metadata": {
    "collapsed": false
   },
   "outputs": [
    {
     "data": {
      "text/plain": [
       "'utf-8'"
      ]
     },
     "execution_count": 15,
     "metadata": {},
     "output_type": "execute_result"
    }
   ],
   "source": [
    "r.encoding"
   ]
  },
  {
   "cell_type": "markdown",
   "metadata": {},
   "source": [
    "## Binary Response Content\n",
    "\n",
    "### Get function in request package can also access the response body as bytes, for non-text requests.\n",
    "For example, it can create an image from binary data returned by a request"
   ]
  },
  {
   "cell_type": "code",
   "execution_count": 8,
   "metadata": {
    "collapsed": false
   },
   "outputs": [
    {
     "data": {
      "image/png": "[encoded data removed]",
      "text/plain": [
       "<PIL.PngImagePlugin.PngImageFile image mode=RGBA size=576x420 at 0x108A18A90>"
      ]
     },
     "execution_count": 8,
     "metadata": {},
     "output_type": "execute_result"
    }
   ],
   "source": [
    "from PIL import Image\n",
    "from io import BytesIO\n",
    "url = \"https://upload.wikimedia.org/wikipedia/commons/thumb/4/46/Venn0110.svg/576px-Venn0110.svg.png\"\n",
    "r = requests.get(url)\n",
    "i = Image.open(BytesIO(r.content))\n",
    "i"
   ]
  },
  {
   "cell_type": "markdown",
   "metadata": {},
   "source": [
    "## JSON Response Content\n",
    "\n",
    "### There's also a builtin JSON decoder in request package, it is very convenient dealing with JSON data."
   ]
  },
  {
   "cell_type": "code",
   "execution_count": 9,
   "metadata": {
    "collapsed": false
   },
   "outputs": [
    {
     "data": {
      "text/plain": [
       "[{'actor': {'avatar_url': 'https://avatars.githubusercontent.com/u/9498505?',\n",
       "   'display_login': 'kneerunjun',\n",
       "   'gravatar_id': '',\n",
       "   'id': 9498505,\n",
       "   'login': 'kneerunjun',\n",
       "   'url': 'https://api.github.com/users/kneerunjun'},\n",
       "  'created_at': '2017-02-20T03:06:30Z',\n",
       "  'id': '5353032128',\n",
       "  'org': {'avatar_url': 'https://avatars.githubusercontent.com/u/13110595?',\n",
       "   'gravatar_id': '',\n",
       "   'id': 13110595,\n",
       "   'login': 'engiacad',\n",
       "   'url': 'https://api.github.com/orgs/engiacad'},\n",
       "  'payload': {'action': 'opened',\n",
       "   'issue': {'assignee': None,\n",
       "    'assignees': [],\n",
       "    'body': 'When user logs in with a non-existent user id, the exception handling fails, should check for undefined resolution of the deferred response too.',\n",
       "    'closed_at': None,\n",
       "    'comments': 0,\n",
       "    'comments_url': 'https://api.github.com/repos/engiacad/skillminer/issues/1/comments',\n",
       "    'created_at': '2017-02-20T03:06:30Z',\n",
       "    'events_url': 'https://api.github.com/repos/engiacad/skillminer/issues/1/events',\n",
       "    'html_url': 'https://github.com/engiacad/skillminer/issues/1',\n",
       "    'id': 208773492,\n",
       "    'labels': [],\n",
       "    'labels_url': 'https://api.github.com/repos/engiacad/skillminer/issues/1/labels{/name}',\n",
       "    'locked': False,\n",
       "    'milestone': None,\n",
       "    'number': 1,\n",
       "    'repository_url': 'https://api.github.com/repos/engiacad/skillminer',\n",
       "    'state': 'open',\n",
       "    'title': 'Invalid non existent user has a exception handling issue ',\n",
       "    'updated_at': '2017-02-20T03:06:30Z',\n",
       "    'url': 'https://api.github.com/repos/engiacad/skillminer/issues/1',\n",
       "    'user': {'avatar_url': 'https://avatars.githubusercontent.com/u/9498505?v=3',\n",
       "     'events_url': 'https://api.github.com/users/kneerunjun/events{/privacy}',\n",
       "     'followers_url': 'https://api.github.com/users/kneerunjun/followers',\n",
       "     'following_url': 'https://api.github.com/users/kneerunjun/following{/other_user}',\n",
       "     'gists_url': 'https://api.github.com/users/kneerunjun/gists{/gist_id}',\n",
       "     'gravatar_id': '',\n",
       "     'html_url': 'https://github.com/kneerunjun',\n",
       "     'id': 9498505,\n",
       "     'login': 'kneerunjun',\n",
       "     'organizations_url': 'https://api.github.com/users/kneerunjun/orgs',\n",
       "     'received_events_url': 'https://api.github.com/users/kneerunjun/received_events',\n",
       "     'repos_url': 'https://api.github.com/users/kneerunjun/repos',\n",
       "     'site_admin': False,\n",
       "     'starred_url': 'https://api.github.com/users/kneerunjun/starred{/owner}{/repo}',\n",
       "     'subscriptions_url': 'https://api.github.com/users/kneerunjun/subscriptions',\n",
       "     'type': 'User',\n",
       "     'url': 'https://api.github.com/users/kneerunjun'}}},\n",
       "  'public': True,\n",
       "  'repo': {'id': 82510177,\n",
       "   'name': 'engiacad/skillminer',\n",
       "   'url': 'https://api.github.com/repos/engiacad/skillminer'},\n",
       "  'type': 'IssuesEvent'},\n",
       " {'actor': {'avatar_url': 'https://avatars.githubusercontent.com/u/6707420?',\n",
       "   'display_login': 'ornitorrincco',\n",
       "   'gravatar_id': '',\n",
       "   'id': 6707420,\n",
       "   'login': 'ornitorrincco',\n",
       "   'url': 'https://api.github.com/users/ornitorrincco'},\n",
       "  'created_at': '2017-02-20T03:06:29Z',\n",
       "  'id': '5353032119',\n",
       "  'payload': {'before': '94bbd66486e666b946db59c32d46cd50355db870',\n",
       "   'commits': [{'author': {'email': 'ornitorrincco@gmail.com',\n",
       "      'name': 'Abraham Alonzo Velázquez'},\n",
       "     'distinct': True,\n",
       "     'message': 'Create example06.cpp',\n",
       "     'sha': '3a67f637aec1c4bed4183b27ec3bfa63398b1f05',\n",
       "     'url': 'https://api.github.com/repos/ornitorrincco/graphics/commits/3a67f637aec1c4bed4183b27ec3bfa63398b1f05'}],\n",
       "   'distinct_size': 1,\n",
       "   'head': '3a67f637aec1c4bed4183b27ec3bfa63398b1f05',\n",
       "   'push_id': 1567014980,\n",
       "   'ref': 'refs/heads/master',\n",
       "   'size': 1},\n",
       "  'public': True,\n",
       "  'repo': {'id': 81053875,\n",
       "   'name': 'ornitorrincco/graphics',\n",
       "   'url': 'https://api.github.com/repos/ornitorrincco/graphics'},\n",
       "  'type': 'PushEvent'},\n",
       " {'actor': {'avatar_url': 'https://avatars.githubusercontent.com/u/6335577?',\n",
       "   'display_login': 'mateuspiresl',\n",
       "   'gravatar_id': '',\n",
       "   'id': 6335577,\n",
       "   'login': 'mateuspiresl',\n",
       "   'url': 'https://api.github.com/users/mateuspiresl'},\n",
       "  'created_at': '2017-02-20T03:06:29Z',\n",
       "  'id': '5353032118',\n",
       "  'payload': {'before': 'bd8b118f209d9bb905b7471b25d18f327639814d',\n",
       "   'commits': [{'author': {'email': 'mateuspires@lavid.ufpb.br',\n",
       "      'name': 'Mateus Pires'},\n",
       "     'distinct': True,\n",
       "     'message': 'Check available memory when choosing counting sort algorithm on heuristic [assignment-04]',\n",
       "     'sha': 'ac6a7a33c0f8a4738823fd0454e5451e7c64d2ee',\n",
       "     'url': 'https://api.github.com/repos/mateuspiresl/sorting_algorithms/commits/ac6a7a33c0f8a4738823fd0454e5451e7c64d2ee'}],\n",
       "   'distinct_size': 1,\n",
       "   'head': 'ac6a7a33c0f8a4738823fd0454e5451e7c64d2ee',\n",
       "   'push_id': 1567014979,\n",
       "   'ref': 'refs/heads/master',\n",
       "   'size': 1},\n",
       "  'public': True,\n",
       "  'repo': {'id': 79981733,\n",
       "   'name': 'mateuspiresl/sorting_algorithms',\n",
       "   'url': 'https://api.github.com/repos/mateuspiresl/sorting_algorithms'},\n",
       "  'type': 'PushEvent'},\n",
       " {'actor': {'avatar_url': 'https://avatars.githubusercontent.com/u/1884922?',\n",
       "   'display_login': 'spencerlearning',\n",
       "   'gravatar_id': '',\n",
       "   'id': 1884922,\n",
       "   'login': 'spencerlearning',\n",
       "   'url': 'https://api.github.com/users/spencerlearning'},\n",
       "  'created_at': '2017-02-20T03:06:29Z',\n",
       "  'id': '5353032116',\n",
       "  'payload': {'before': 'c0f89b3ad90e1d354913b2e1801e7aa38dd1a465',\n",
       "   'commits': [{'author': {'email': 'brian@spencerlearning.com',\n",
       "      'name': 'Brian Spencer'},\n",
       "     'distinct': True,\n",
       "     'message': 'Add iphone and android to levureApplicationDataFolder\\n\\nChanges only made in `pUserOrShared is not \"shared\"` section since\\nthere are no shared folders in mobile.',\n",
       "     'sha': '73eac1f93682ce7626b644cf31b80edcc16e631f',\n",
       "     'url': 'https://api.github.com/repos/spencerlearning/levure/commits/73eac1f93682ce7626b644cf31b80edcc16e631f'}],\n",
       "   'distinct_size': 1,\n",
       "   'head': '73eac1f93682ce7626b644cf31b80edcc16e631f',\n",
       "   'push_id': 1567014977,\n",
       "   'ref': 'refs/heads/mobile-hello-world',\n",
       "   'size': 1},\n",
       "  'public': True,\n",
       "  'repo': {'id': 82168562,\n",
       "   'name': 'spencerlearning/levure',\n",
       "   'url': 'https://api.github.com/repos/spencerlearning/levure'},\n",
       "  'type': 'PushEvent'},\n",
       " {'actor': {'avatar_url': 'https://avatars.githubusercontent.com/u/24937806?',\n",
       "   'display_login': 'emcsquire',\n",
       "   'gravatar_id': '',\n",
       "   'id': 24937806,\n",
       "   'login': 'emcsquire',\n",
       "   'url': 'https://api.github.com/users/emcsquire'},\n",
       "  'created_at': '2017-02-20T03:06:29Z',\n",
       "  'id': '5353032115',\n",
       "  'payload': {'before': '861dfef8fb10dfcd0aedbef20a116aab9971c183',\n",
       "   'commits': [{'author': {'email': 'sonyrenzmanalo@gmail.com',\n",
       "      'name': 'emcsquire'},\n",
       "     'distinct': True,\n",
       "     'message': 'Add files via upload',\n",
       "     'sha': '6208565dea6f1313902b3adce6ce67fb0f170b7f',\n",
       "     'url': 'https://api.github.com/repos/emcsquire/test/commits/6208565dea6f1313902b3adce6ce67fb0f170b7f'}],\n",
       "   'distinct_size': 1,\n",
       "   'head': '6208565dea6f1313902b3adce6ce67fb0f170b7f',\n",
       "   'push_id': 1567014976,\n",
       "   'ref': 'refs/heads/master',\n",
       "   'size': 1},\n",
       "  'public': True,\n",
       "  'repo': {'id': 78608042,\n",
       "   'name': 'emcsquire/test',\n",
       "   'url': 'https://api.github.com/repos/emcsquire/test'},\n",
       "  'type': 'PushEvent'},\n",
       " {'actor': {'avatar_url': 'https://avatars.githubusercontent.com/u/904084?',\n",
       "   'display_login': 'ccl0326',\n",
       "   'gravatar_id': '',\n",
       "   'id': 904084,\n",
       "   'login': 'ccl0326',\n",
       "   'url': 'https://api.github.com/users/ccl0326'},\n",
       "  'created_at': '2017-02-20T03:06:29Z',\n",
       "  'id': '5353032102',\n",
       "  'payload': {'action': 'started'},\n",
       "  'public': True,\n",
       "  'repo': {'id': 214605,\n",
       "   'name': 'voldemort/voldemort',\n",
       "   'url': 'https://api.github.com/repos/voldemort/voldemort'},\n",
       "  'type': 'WatchEvent'},\n",
       " {'actor': {'avatar_url': 'https://avatars.githubusercontent.com/u/3870014?',\n",
       "   'display_login': 'chinwei',\n",
       "   'gravatar_id': '',\n",
       "   'id': 3870014,\n",
       "   'login': 'chinwei',\n",
       "   'url': 'https://api.github.com/users/chinwei'},\n",
       "  'created_at': '2017-02-20T03:06:29Z',\n",
       "  'id': '5353032101',\n",
       "  'payload': {'before': '8eedd8b59aca55c32f6b591b7416e181ddb7cff2',\n",
       "   'commits': [{'author': {'email': 'chinweiwong@Chinweis-MacBook-Pro.local',\n",
       "      'name': 'Chinwei Wong'},\n",
       "     'distinct': False,\n",
       "     'message': 'generated site',\n",
       "     'sha': 'a0b43e51116b832eaf7bf79ec368c74500c622fb',\n",
       "     'url': 'https://api.github.com/repos/chinwei/portfolio/commits/a0b43e51116b832eaf7bf79ec368c74500c622fb'},\n",
       "    {'author': {'email': 'chinweiwong@Chinweis-MacBook-Pro.local',\n",
       "      'name': 'Chinwei Wong'},\n",
       "     'distinct': False,\n",
       "     'message': 'resolved merge',\n",
       "     'sha': '0579e553f33e644b975579ca9ed57d0672378f30',\n",
       "     'url': 'https://api.github.com/repos/chinwei/portfolio/commits/0579e553f33e644b975579ca9ed57d0672378f30'},\n",
       "    {'author': {'email': 'chinweiwong@Chinweis-MacBook-Pro.local',\n",
       "      'name': 'Chinwei Wong'},\n",
       "     'distinct': True,\n",
       "     'message': 'resolved merge issues',\n",
       "     'sha': '25d3836225cca8c30214e89fe18e6f730b21c0cc',\n",
       "     'url': 'https://api.github.com/repos/chinwei/portfolio/commits/25d3836225cca8c30214e89fe18e6f730b21c0cc'},\n",
       "    {'author': {'email': 'chinweiwong@Chinweis-MacBook-Pro.local',\n",
       "      'name': 'Chinwei Wong'},\n",
       "     'distinct': True,\n",
       "     'message': 'tweaked styling',\n",
       "     'sha': 'dd22ad5fcc1084ea6f185856ed80aa1d16a32693',\n",
       "     'url': 'https://api.github.com/repos/chinwei/portfolio/commits/dd22ad5fcc1084ea6f185856ed80aa1d16a32693'}],\n",
       "   'distinct_size': 2,\n",
       "   'head': 'dd22ad5fcc1084ea6f185856ed80aa1d16a32693',\n",
       "   'push_id': 1567014972,\n",
       "   'ref': 'refs/heads/master',\n",
       "   'size': 4},\n",
       "  'public': True,\n",
       "  'repo': {'id': 30056344,\n",
       "   'name': 'chinwei/portfolio',\n",
       "   'url': 'https://api.github.com/repos/chinwei/portfolio'},\n",
       "  'type': 'PushEvent'},\n",
       " {'actor': {'avatar_url': 'https://avatars.githubusercontent.com/u/17867304?',\n",
       "   'display_login': 'SouthernBox',\n",
       "   'gravatar_id': '',\n",
       "   'id': 17867304,\n",
       "   'login': 'SouthernBox',\n",
       "   'url': 'https://api.github.com/users/SouthernBox'},\n",
       "  'created_at': '2017-02-20T03:06:29Z',\n",
       "  'id': '5353032090',\n",
       "  'payload': {'before': 'a0dba18a3afa53b414a4cf032e7fb2dd56def99c',\n",
       "   'commits': [{'author': {'email': 'linnq@zdnst.com', 'name': 'LinNanQuan'},\n",
       "     'distinct': True,\n",
       "     'message': '修复从html页面跳转',\n",
       "     'sha': 'de0170a60987a2843ef3b8e8fea198f9628f2de9',\n",
       "     'url': 'https://api.github.com/repos/SouthernBox/IceAndFire/commits/de0170a60987a2843ef3b8e8fea198f9628f2de9'}],\n",
       "   'distinct_size': 1,\n",
       "   'head': 'de0170a60987a2843ef3b8e8fea198f9628f2de9',\n",
       "   'push_id': 1567014971,\n",
       "   'ref': 'refs/heads/master',\n",
       "   'size': 1},\n",
       "  'public': True,\n",
       "  'repo': {'id': 78941792,\n",
       "   'name': 'SouthernBox/IceAndFire',\n",
       "   'url': 'https://api.github.com/repos/SouthernBox/IceAndFire'},\n",
       "  'type': 'PushEvent'},\n",
       " {'actor': {'avatar_url': 'https://avatars.githubusercontent.com/u/25890641?',\n",
       "   'display_login': 'dayday12',\n",
       "   'gravatar_id': '',\n",
       "   'id': 25890641,\n",
       "   'login': 'dayday12',\n",
       "   'url': 'https://api.github.com/users/dayday12'},\n",
       "  'created_at': '2017-02-20T03:06:29Z',\n",
       "  'id': '5353032086',\n",
       "  'payload': {'description': None,\n",
       "   'master_branch': 'master',\n",
       "   'pusher_type': 'user',\n",
       "   'ref': None,\n",
       "   'ref_type': 'repository'},\n",
       "  'public': True,\n",
       "  'repo': {'id': 82511039,\n",
       "   'name': 'dayday12/123456',\n",
       "   'url': 'https://api.github.com/repos/dayday12/123456'},\n",
       "  'type': 'CreateEvent'},\n",
       " {'actor': {'avatar_url': 'https://avatars.githubusercontent.com/u/23500764?',\n",
       "   'display_login': 'SatisfyDevelop',\n",
       "   'gravatar_id': '',\n",
       "   'id': 23500764,\n",
       "   'login': 'SatisfyDevelop',\n",
       "   'url': 'https://api.github.com/users/SatisfyDevelop'},\n",
       "  'created_at': '2017-02-20T03:06:29Z',\n",
       "  'id': '5353032083',\n",
       "  'payload': {'before': '048c5d04b56c4d201661ec032bda758416ad8831',\n",
       "   'commits': [{'author': {'email': 'super.crazyboy429@yandex.com',\n",
       "      'name': 'Web Dev'},\n",
       "     'distinct': True,\n",
       "     'message': 'initial commit',\n",
       "     'sha': '84cb10aa5988e05b23a9ec0a5f96a1e71ecfa040',\n",
       "     'url': 'https://api.github.com/repos/SatisfyDevelop/backbone-model/commits/84cb10aa5988e05b23a9ec0a5f96a1e71ecfa040'}],\n",
       "   'distinct_size': 1,\n",
       "   'head': '84cb10aa5988e05b23a9ec0a5f96a1e71ecfa040',\n",
       "   'push_id': 1567014967,\n",
       "   'ref': 'refs/heads/master',\n",
       "   'size': 1},\n",
       "  'public': True,\n",
       "  'repo': {'id': 82510900,\n",
       "   'name': 'SatisfyDevelop/backbone-model',\n",
       "   'url': 'https://api.github.com/repos/SatisfyDevelop/backbone-model'},\n",
       "  'type': 'PushEvent'},\n",
       " {'actor': {'avatar_url': 'https://avatars.githubusercontent.com/u/8517910?',\n",
       "   'display_login': 'LombiqBot',\n",
       "   'gravatar_id': '',\n",
       "   'id': 8517910,\n",
       "   'login': 'LombiqBot',\n",
       "   'url': 'https://api.github.com/users/LombiqBot'},\n",
       "  'created_at': '2017-02-20T03:06:29Z',\n",
       "  'id': '5353032081',\n",
       "  'org': {'avatar_url': 'https://avatars.githubusercontent.com/u/8158177?',\n",
       "   'gravatar_id': '',\n",
       "   'id': 8158177,\n",
       "   'login': 'Lombiq',\n",
       "   'url': 'https://api.github.com/orgs/Lombiq'},\n",
       "  'payload': {'before': 'eda1d1a58ff4893c0dfa7ce89add1350d04f4a30',\n",
       "   'commits': [],\n",
       "   'distinct_size': 0,\n",
       "   'head': 'eda1d1a58ff4893c0dfa7ce89add1350d04f4a30',\n",
       "   'push_id': 1567014964,\n",
       "   'ref': 'refs/heads/issue/BTLR-54',\n",
       "   'size': 0},\n",
       "  'public': True,\n",
       "  'repo': {'id': 46631424,\n",
       "   'name': 'Lombiq/Pretty-Good-Bootstrap-Base-Theme-Sample',\n",
       "   'url': 'https://api.github.com/repos/Lombiq/Pretty-Good-Bootstrap-Base-Theme-Sample'},\n",
       "  'type': 'PushEvent'},\n",
       " {'actor': {'avatar_url': 'https://avatars.githubusercontent.com/u/8153239?',\n",
       "   'display_login': 'JMccormick264',\n",
       "   'gravatar_id': '',\n",
       "   'id': 8153239,\n",
       "   'login': 'JMccormick264',\n",
       "   'url': 'https://api.github.com/users/JMccormick264'},\n",
       "  'created_at': '2017-02-20T03:06:29Z',\n",
       "  'id': '5353032078',\n",
       "  'payload': {'before': 'e11d42323a69317b82efd5ae00412eec9da4a908',\n",
       "   'commits': [{'author': {'email': 'legitx264@gmail.com',\n",
       "      'name': 'Legitgamer264'},\n",
       "     'distinct': True,\n",
       "     'message': 'Updated Instagram++ to 10.8 and Tweak Version 1.7r-124',\n",
       "     'sha': 'f2bec08a74745673f6ec3198f6812fa753fa720b',\n",
       "     'url': 'https://api.github.com/repos/JMccormick264/PPAppsIPARepo/commits/f2bec08a74745673f6ec3198f6812fa753fa720b'}],\n",
       "   'distinct_size': 1,\n",
       "   'head': 'f2bec08a74745673f6ec3198f6812fa753fa720b',\n",
       "   'push_id': 1567014963,\n",
       "   'ref': 'refs/heads/master',\n",
       "   'size': 1},\n",
       "  'public': True,\n",
       "  'repo': {'id': 79867861,\n",
       "   'name': 'JMccormick264/PPAppsIPARepo',\n",
       "   'url': 'https://api.github.com/repos/JMccormick264/PPAppsIPARepo'},\n",
       "  'type': 'PushEvent'},\n",
       " {'actor': {'avatar_url': 'https://avatars.githubusercontent.com/u/25238195?',\n",
       "   'display_login': 'iancj97',\n",
       "   'gravatar_id': '',\n",
       "   'id': 25238195,\n",
       "   'login': 'iancj97',\n",
       "   'url': 'https://api.github.com/users/iancj97'},\n",
       "  'created_at': '2017-02-20T03:06:28Z',\n",
       "  'id': '5353032072',\n",
       "  'org': {'avatar_url': 'https://avatars.githubusercontent.com/u/25153701?',\n",
       "   'gravatar_id': '',\n",
       "   'id': 25153701,\n",
       "   'login': 'CS3733TeamBeta',\n",
       "   'url': 'https://api.github.com/orgs/CS3733TeamBeta'},\n",
       "  'payload': {'before': '164f5fcacd25603eb6553e5f391b3330a3973b2b',\n",
       "   'commits': [{'author': {'email': 'icjohnson@wpi.edu',\n",
       "      'name': 'Ian Johnson'},\n",
       "     'distinct': True,\n",
       "     'message': 'Fixed null pointer',\n",
       "     'sha': '26b67c6cabd2aacbe8d6fd021569815cadd4b80a',\n",
       "     'url': 'https://api.github.com/repos/CS3733TeamBeta/Faulkner.Kiosk/commits/26b67c6cabd2aacbe8d6fd021569815cadd4b80a'}],\n",
       "   'distinct_size': 1,\n",
       "   'head': '26b67c6cabd2aacbe8d6fd021569815cadd4b80a',\n",
       "   'push_id': 1567014962,\n",
       "   'ref': 'refs/heads/feature_AdminDirectorEditor_30',\n",
       "   'size': 1},\n",
       "  'public': True,\n",
       "  'repo': {'id': 79485973,\n",
       "   'name': 'CS3733TeamBeta/Faulkner.Kiosk',\n",
       "   'url': 'https://api.github.com/repos/CS3733TeamBeta/Faulkner.Kiosk'},\n",
       "  'type': 'PushEvent'},\n",
       " {'actor': {'avatar_url': 'https://avatars.githubusercontent.com/u/18185507?',\n",
       "   'display_login': 'JooperGe',\n",
       "   'gravatar_id': '',\n",
       "   'id': 18185507,\n",
       "   'login': 'JooperGe',\n",
       "   'url': 'https://api.github.com/users/JooperGe'},\n",
       "  'created_at': '2017-02-20T03:06:28Z',\n",
       "  'id': '5353032071',\n",
       "  'payload': {'action': 'started'},\n",
       "  'public': True,\n",
       "  'repo': {'id': 79119539,\n",
       "   'name': 'qinci/EdgeTranslucent',\n",
       "   'url': 'https://api.github.com/repos/qinci/EdgeTranslucent'},\n",
       "  'type': 'WatchEvent'},\n",
       " {'actor': {'avatar_url': 'https://avatars.githubusercontent.com/u/23589475?',\n",
       "   'display_login': 'marcoantoniobferreira',\n",
       "   'gravatar_id': '',\n",
       "   'id': 23589475,\n",
       "   'login': 'marcoantoniobferreira',\n",
       "   'url': 'https://api.github.com/users/marcoantoniobferreira'},\n",
       "  'created_at': '2017-02-20T03:06:28Z',\n",
       "  'id': '5353032069',\n",
       "  'payload': {'before': '595446db212f5d9f546d2e90dad0336ad0a5afaf',\n",
       "   'commits': [{'author': {'email': 'marcoantoniobferreira@gmail.com',\n",
       "      'name': 'marcoantoniobferreira'},\n",
       "     'distinct': True,\n",
       "     'message': 'Update and rename README.md to exercicio_inicial_gcm.md',\n",
       "     'sha': '747e542f683a65f6fe957e375d66557198eb6dfd',\n",
       "     'url': 'https://api.github.com/repos/marcoantoniobferreira/versoes_ios_android_office/commits/747e542f683a65f6fe957e375d66557198eb6dfd'}],\n",
       "   'distinct_size': 1,\n",
       "   'head': '747e542f683a65f6fe957e375d66557198eb6dfd',\n",
       "   'push_id': 1567014961,\n",
       "   'ref': 'refs/heads/master',\n",
       "   'size': 1},\n",
       "  'public': True,\n",
       "  'repo': {'id': 82510167,\n",
       "   'name': 'marcoantoniobferreira/versoes_ios_android_office',\n",
       "   'url': 'https://api.github.com/repos/marcoantoniobferreira/versoes_ios_android_office'},\n",
       "  'type': 'PushEvent'},\n",
       " {'actor': {'avatar_url': 'https://avatars.githubusercontent.com/u/25784562?',\n",
       "   'display_login': 'e27813176',\n",
       "   'gravatar_id': '',\n",
       "   'id': 25784562,\n",
       "   'login': 'e27813176',\n",
       "   'url': 'https://api.github.com/users/e27813176'},\n",
       "  'created_at': '2017-02-20T03:06:28Z',\n",
       "  'id': '5353032064',\n",
       "  'payload': {'before': '9cfdd700e336ab684db5957cf044625094dc55ec',\n",
       "   'commits': [{'author': {'email': '耀輝tseng', 'name': '耀輝tseng'},\n",
       "     'distinct': True,\n",
       "     'message': 'add new text',\n",
       "     'sha': 'b6796712b83708e45ddc5f03a35613a7e8ff11b5',\n",
       "     'url': 'https://api.github.com/repos/e27813176/phaserDemo/commits/b6796712b83708e45ddc5f03a35613a7e8ff11b5'}],\n",
       "   'distinct_size': 1,\n",
       "   'head': 'b6796712b83708e45ddc5f03a35613a7e8ff11b5',\n",
       "   'push_id': 1567014960,\n",
       "   'ref': 'refs/heads/feature1',\n",
       "   'size': 1},\n",
       "  'public': True,\n",
       "  'repo': {'id': 82016978,\n",
       "   'name': 'e27813176/phaserDemo',\n",
       "   'url': 'https://api.github.com/repos/e27813176/phaserDemo'},\n",
       "  'type': 'PushEvent'},\n",
       " {'actor': {'avatar_url': 'https://avatars.githubusercontent.com/u/15712943?',\n",
       "   'display_login': 'AnicutCodeGuru',\n",
       "   'gravatar_id': '',\n",
       "   'id': 15712943,\n",
       "   'login': 'AnicutCodeGuru',\n",
       "   'url': 'https://api.github.com/users/AnicutCodeGuru'},\n",
       "  'created_at': '2017-02-20T03:06:28Z',\n",
       "  'id': '5353032059',\n",
       "  'payload': {'before': '5527d1ceebce5ebfd71de49fe100a77eb123cd1e',\n",
       "   'commits': [{'author': {'email': 'nandy.jaga@gmail.com',\n",
       "      'name': 'nandyjaga'},\n",
       "     'distinct': True,\n",
       "     'message': 'Service integration',\n",
       "     'sha': '4f329ea341dea8ea16e0ca348fe6487ac5221513',\n",
       "     'url': 'https://api.github.com/repos/AnicutCodeGuru/BrushUpSession/commits/4f329ea341dea8ea16e0ca348fe6487ac5221513'}],\n",
       "   'distinct_size': 1,\n",
       "   'head': '4f329ea341dea8ea16e0ca348fe6487ac5221513',\n",
       "   'push_id': 1567014959,\n",
       "   'ref': 'refs/heads/master',\n",
       "   'size': 1},\n",
       "  'public': True,\n",
       "  'repo': {'id': 82477759,\n",
       "   'name': 'AnicutCodeGuru/BrushUpSession',\n",
       "   'url': 'https://api.github.com/repos/AnicutCodeGuru/BrushUpSession'},\n",
       "  'type': 'PushEvent'},\n",
       " {'actor': {'avatar_url': 'https://avatars.githubusercontent.com/u/48329?',\n",
       "   'display_login': 'ekristen',\n",
       "   'gravatar_id': '',\n",
       "   'id': 48329,\n",
       "   'login': 'ekristen',\n",
       "   'url': 'https://api.github.com/users/ekristen'},\n",
       "  'created_at': '2017-02-20T03:06:28Z',\n",
       "  'id': '5353032056',\n",
       "  'org': {'avatar_url': 'https://avatars.githubusercontent.com/u/6148860?',\n",
       "   'gravatar_id': '',\n",
       "   'id': 6148860,\n",
       "   'login': 'sans-dfir',\n",
       "   'url': 'https://api.github.com/orgs/sans-dfir'},\n",
       "  'payload': {'before': '0a863ca36015dd0b2463d8a3813a50a995fb3d64',\n",
       "   'commits': [{'author': {'email': 'erik@erikkristensen.com',\n",
       "      'name': 'Erik Kristensen'},\n",
       "     'distinct': True,\n",
       "     'message': 'detect if there are no changes made to state files',\n",
       "     'sha': '5e8b614e0a96747d4ce07d548bcb886044c0e13a',\n",
       "     'url': 'https://api.github.com/repos/sans-dfir/sift-saltstack/commits/5e8b614e0a96747d4ce07d548bcb886044c0e13a'}],\n",
       "   'distinct_size': 1,\n",
       "   'head': '5e8b614e0a96747d4ce07d548bcb886044c0e13a',\n",
       "   'push_id': 1567014955,\n",
       "   'ref': 'refs/heads/master',\n",
       "   'size': 1},\n",
       "  'public': True,\n",
       "  'repo': {'id': 62020004,\n",
       "   'name': 'sans-dfir/sift-saltstack',\n",
       "   'url': 'https://api.github.com/repos/sans-dfir/sift-saltstack'},\n",
       "  'type': 'PushEvent'},\n",
       " {'actor': {'avatar_url': 'https://avatars.githubusercontent.com/u/22282325?',\n",
       "   'display_login': 'SaraGinsburg',\n",
       "   'gravatar_id': '',\n",
       "   'id': 22282325,\n",
       "   'login': 'SaraGinsburg',\n",
       "   'url': 'https://api.github.com/users/SaraGinsburg'},\n",
       "  'created_at': '2017-02-20T03:06:28Z',\n",
       "  'id': '5353032055',\n",
       "  'payload': {'before': '2322c842e538dc98cd7e24d36445e753885ccc8b',\n",
       "   'commits': [{'author': {'email': 'sara.ginsburg.ny@gmail.com',\n",
       "      'name': 'Sara Ginsburg'},\n",
       "     'distinct': True,\n",
       "     'message': 'Done.',\n",
       "     'sha': '6f22f6ae1bf1fa997b519297cca8591d0d3ef4cb',\n",
       "     'url': 'https://api.github.com/repos/SaraGinsburg/javascript-arrays-bootcamp-prep-000/commits/6f22f6ae1bf1fa997b519297cca8591d0d3ef4cb'}],\n",
       "   'distinct_size': 1,\n",
       "   'head': '6f22f6ae1bf1fa997b519297cca8591d0d3ef4cb',\n",
       "   'push_id': 1567014956,\n",
       "   'ref': 'refs/heads/master',\n",
       "   'size': 1},\n",
       "  'public': True,\n",
       "  'repo': {'id': 82498114,\n",
       "   'name': 'SaraGinsburg/javascript-arrays-bootcamp-prep-000',\n",
       "   'url': 'https://api.github.com/repos/SaraGinsburg/javascript-arrays-bootcamp-prep-000'},\n",
       "  'type': 'PushEvent'},\n",
       " {'actor': {'avatar_url': 'https://avatars.githubusercontent.com/u/2461257?',\n",
       "   'display_login': 'SerafimArts',\n",
       "   'gravatar_id': '',\n",
       "   'id': 2461257,\n",
       "   'login': 'SerafimArts',\n",
       "   'url': 'https://api.github.com/users/SerafimArts'},\n",
       "  'created_at': '2017-02-20T03:06:28Z',\n",
       "  'id': '5353032054',\n",
       "  'org': {'avatar_url': 'https://avatars.githubusercontent.com/u/5966874?',\n",
       "   'gravatar_id': '',\n",
       "   'id': 5966874,\n",
       "   'login': 'LaravelRUS',\n",
       "   'url': 'https://api.github.com/orgs/LaravelRUS'},\n",
       "  'payload': {'before': '4358877016cbeae19259e696f5c0f6084f568f90',\n",
       "   'commits': [{'author': {'email': 'nesk@xakep.ru', 'name': 'Serafim'},\n",
       "     'distinct': True,\n",
       "     'message': 'Improve schema.org support',\n",
       "     'sha': 'eeb9c97a959fadef5a9909b2be9a8cd3cd795898',\n",
       "     'url': 'https://api.github.com/repos/LaravelRUS/laravel.ru/commits/eeb9c97a959fadef5a9909b2be9a8cd3cd795898'}],\n",
       "   'distinct_size': 1,\n",
       "   'head': 'eeb9c97a959fadef5a9909b2be9a8cd3cd795898',\n",
       "   'push_id': 1567014954,\n",
       "   'ref': 'refs/heads/feature-laravel-5.4',\n",
       "   'size': 1},\n",
       "  'public': True,\n",
       "  'repo': {'id': 18944609,\n",
       "   'name': 'LaravelRUS/laravel.ru',\n",
       "   'url': 'https://api.github.com/repos/LaravelRUS/laravel.ru'},\n",
       "  'type': 'PushEvent'},\n",
       " {'actor': {'avatar_url': 'https://avatars.githubusercontent.com/u/8340592?',\n",
       "   'display_login': 'zhangysh1995',\n",
       "   'gravatar_id': '',\n",
       "   'id': 8340592,\n",
       "   'login': 'zhangysh1995',\n",
       "   'url': 'https://api.github.com/users/zhangysh1995'},\n",
       "  'created_at': '2017-02-20T03:06:28Z',\n",
       "  'id': '5353032053',\n",
       "  'org': {'avatar_url': 'https://avatars.githubusercontent.com/u/11769276?',\n",
       "   'gravatar_id': '',\n",
       "   'id': 11769276,\n",
       "   'login': 'CENSUS',\n",
       "   'url': 'https://api.github.com/orgs/CENSUS'},\n",
       "  'payload': {'action': 'started'},\n",
       "  'public': True,\n",
       "  'repo': {'id': 63764797,\n",
       "   'name': 'CENSUS/choronzon',\n",
       "   'url': 'https://api.github.com/repos/CENSUS/choronzon'},\n",
       "  'type': 'WatchEvent'},\n",
       " {'actor': {'avatar_url': 'https://avatars.githubusercontent.com/u/23694395?',\n",
       "   'display_login': 'OPSTest',\n",
       "   'gravatar_id': '',\n",
       "   'id': 23694395,\n",
       "   'login': 'OPSTest',\n",
       "   'url': 'https://api.github.com/users/OPSTest'},\n",
       "  'created_at': '2017-02-20T03:06:28Z',\n",
       "  'id': '5353032041',\n",
       "  'payload': {'description': None,\n",
       "   'master_branch': 'master',\n",
       "   'pusher_type': 'user',\n",
       "   'ref': 'createNewDocsBranch',\n",
       "   'ref_type': 'branch'},\n",
       "  'public': True,\n",
       "  'repo': {'id': 76227784,\n",
       "   'name': 'OPSTest/E2E_DocsBranch',\n",
       "   'url': 'https://api.github.com/repos/OPSTest/E2E_DocsBranch'},\n",
       "  'type': 'CreateEvent'},\n",
       " {'actor': {'avatar_url': 'https://avatars.githubusercontent.com/u/18182241?',\n",
       "   'display_login': 'eloiseSJTU',\n",
       "   'gravatar_id': '',\n",
       "   'id': 18182241,\n",
       "   'login': 'eloiseSJTU',\n",
       "   'url': 'https://api.github.com/users/eloiseSJTU'},\n",
       "  'created_at': '2017-02-20T03:06:28Z',\n",
       "  'id': '5353032039',\n",
       "  'payload': {'action': 'reopened',\n",
       "   'number': 6,\n",
       "   'pull_request': {'_links': {'comments': {'href': 'https://api.github.com/repos/eloiseSJTU/coding2017/issues/6/comments'},\n",
       "     'commits': {'href': 'https://api.github.com/repos/eloiseSJTU/coding2017/pulls/6/commits'},\n",
       "     'html': {'href': 'https://github.com/eloiseSJTU/coding2017/pull/6'},\n",
       "     'issue': {'href': 'https://api.github.com/repos/eloiseSJTU/coding2017/issues/6'},\n",
       "     'review_comment': {'href': 'https://api.github.com/repos/eloiseSJTU/coding2017/pulls/comments{/number}'},\n",
       "     'review_comments': {'href': 'https://api.github.com/repos/eloiseSJTU/coding2017/pulls/6/comments'},\n",
       "     'self': {'href': 'https://api.github.com/repos/eloiseSJTU/coding2017/pulls/6'},\n",
       "     'statuses': {'href': 'https://api.github.com/repos/eloiseSJTU/coding2017/statuses/38b0398bb596fa5795b7118e25a8aa709227c37b'}},\n",
       "    'additions': 36,\n",
       "    'assignee': None,\n",
       "    'assignees': [],\n",
       "    'base': {'label': 'eloiseSJTU:master',\n",
       "     'ref': 'master',\n",
       "     'repo': {'archive_url': 'https://api.github.com/repos/eloiseSJTU/coding2017/{archive_format}{/ref}',\n",
       "      'assignees_url': 'https://api.github.com/repos/eloiseSJTU/coding2017/assignees{/user}',\n",
       "      'blobs_url': 'https://api.github.com/repos/eloiseSJTU/coding2017/git/blobs{/sha}',\n",
       "      'branches_url': 'https://api.github.com/repos/eloiseSJTU/coding2017/branches{/branch}',\n",
       "      'clone_url': 'https://github.com/eloiseSJTU/coding2017.git',\n",
       "      'collaborators_url': 'https://api.github.com/repos/eloiseSJTU/coding2017/collaborators{/collaborator}',\n",
       "      'comments_url': 'https://api.github.com/repos/eloiseSJTU/coding2017/comments{/number}',\n",
       "      'commits_url': 'https://api.github.com/repos/eloiseSJTU/coding2017/commits{/sha}',\n",
       "      'compare_url': 'https://api.github.com/repos/eloiseSJTU/coding2017/compare/{base}...{head}',\n",
       "      'contents_url': 'https://api.github.com/repos/eloiseSJTU/coding2017/contents/{+path}',\n",
       "      'contributors_url': 'https://api.github.com/repos/eloiseSJTU/coding2017/contributors',\n",
       "      'created_at': '2017-02-16T03:57:22Z',\n",
       "      'default_branch': 'master',\n",
       "      'deployments_url': 'https://api.github.com/repos/eloiseSJTU/coding2017/deployments',\n",
       "      'description': '2017编程提高群',\n",
       "      'downloads_url': 'https://api.github.com/repos/eloiseSJTU/coding2017/downloads',\n",
       "      'events_url': 'https://api.github.com/repos/eloiseSJTU/coding2017/events',\n",
       "      'fork': True,\n",
       "      'forks': 21,\n",
       "      'forks_count': 21,\n",
       "      'forks_url': 'https://api.github.com/repos/eloiseSJTU/coding2017/forks',\n",
       "      'full_name': 'eloiseSJTU/coding2017',\n",
       "      'git_commits_url': 'https://api.github.com/repos/eloiseSJTU/coding2017/git/commits{/sha}',\n",
       "      'git_refs_url': 'https://api.github.com/repos/eloiseSJTU/coding2017/git/refs{/sha}',\n",
       "      'git_tags_url': 'https://api.github.com/repos/eloiseSJTU/coding2017/git/tags{/sha}',\n",
       "      'git_url': 'git://github.com/eloiseSJTU/coding2017.git',\n",
       "      'has_downloads': True,\n",
       "      'has_issues': False,\n",
       "      'has_pages': False,\n",
       "      'has_wiki': True,\n",
       "      'homepage': None,\n",
       "      'hooks_url': 'https://api.github.com/repos/eloiseSJTU/coding2017/hooks',\n",
       "      'html_url': 'https://github.com/eloiseSJTU/coding2017',\n",
       "      'id': 82137122,\n",
       "      'issue_comment_url': 'https://api.github.com/repos/eloiseSJTU/coding2017/issues/comments{/number}',\n",
       "      'issue_events_url': 'https://api.github.com/repos/eloiseSJTU/coding2017/issues/events{/number}',\n",
       "      'issues_url': 'https://api.github.com/repos/eloiseSJTU/coding2017/issues{/number}',\n",
       "      'keys_url': 'https://api.github.com/repos/eloiseSJTU/coding2017/keys{/key_id}',\n",
       "      'labels_url': 'https://api.github.com/repos/eloiseSJTU/coding2017/labels{/name}',\n",
       "      'language': 'Java',\n",
       "      'languages_url': 'https://api.github.com/repos/eloiseSJTU/coding2017/languages',\n",
       "      'merges_url': 'https://api.github.com/repos/eloiseSJTU/coding2017/merges',\n",
       "      'milestones_url': 'https://api.github.com/repos/eloiseSJTU/coding2017/milestones{/number}',\n",
       "      'mirror_url': None,\n",
       "      'name': 'coding2017',\n",
       "      'notifications_url': 'https://api.github.com/repos/eloiseSJTU/coding2017/notifications{?since,all,participating}',\n",
       "      'open_issues': 1,\n",
       "      'open_issues_count': 1,\n",
       "      'owner': {'avatar_url': 'https://avatars.githubusercontent.com/u/18182241?v=3',\n",
       "       'events_url': 'https://api.github.com/users/eloiseSJTU/events{/privacy}',\n",
       "       'followers_url': 'https://api.github.com/users/eloiseSJTU/followers',\n",
       "       'following_url': 'https://api.github.com/users/eloiseSJTU/following{/other_user}',\n",
       "       'gists_url': 'https://api.github.com/users/eloiseSJTU/gists{/gist_id}',\n",
       "       'gravatar_id': '',\n",
       "       'html_url': 'https://github.com/eloiseSJTU',\n",
       "       'id': 18182241,\n",
       "       'login': 'eloiseSJTU',\n",
       "       'organizations_url': 'https://api.github.com/users/eloiseSJTU/orgs',\n",
       "       'received_events_url': 'https://api.github.com/users/eloiseSJTU/received_events',\n",
       "       'repos_url': 'https://api.github.com/users/eloiseSJTU/repos',\n",
       "       'site_admin': False,\n",
       "       'starred_url': 'https://api.github.com/users/eloiseSJTU/starred{/owner}{/repo}',\n",
       "       'subscriptions_url': 'https://api.github.com/users/eloiseSJTU/subscriptions',\n",
       "       'type': 'User',\n",
       "       'url': 'https://api.github.com/users/eloiseSJTU'},\n",
       "      'private': False,\n",
       "      'pulls_url': 'https://api.github.com/repos/eloiseSJTU/coding2017/pulls{/number}',\n",
       "      'pushed_at': '2017-02-20T02:56:02Z',\n",
       "      'releases_url': 'https://api.github.com/repos/eloiseSJTU/coding2017/releases{/id}',\n",
       "      'size': 24,\n",
       "      'ssh_url': 'git@github.com:eloiseSJTU/coding2017.git',\n",
       "      'stargazers_count': 0,\n",
       "      'stargazers_url': 'https://api.github.com/repos/eloiseSJTU/coding2017/stargazers',\n",
       "      'statuses_url': 'https://api.github.com/repos/eloiseSJTU/coding2017/statuses/{sha}',\n",
       "      'subscribers_url': 'https://api.github.com/repos/eloiseSJTU/coding2017/subscribers',\n",
       "      'subscription_url': 'https://api.github.com/repos/eloiseSJTU/coding2017/subscription',\n",
       "      'svn_url': 'https://github.com/eloiseSJTU/coding2017',\n",
       "      'tags_url': 'https://api.github.com/repos/eloiseSJTU/coding2017/tags',\n",
       "      'teams_url': 'https://api.github.com/repos/eloiseSJTU/coding2017/teams',\n",
       "      'trees_url': 'https://api.github.com/repos/eloiseSJTU/coding2017/git/trees{/sha}',\n",
       "      'updated_at': '2017-02-16T06:17:23Z',\n",
       "      'url': 'https://api.github.com/repos/eloiseSJTU/coding2017',\n",
       "      'watchers': 0,\n",
       "      'watchers_count': 0},\n",
       "     'sha': '7ffbd18021329aa1c04e59eaab56f3b5bd11b843',\n",
       "     'user': {'avatar_url': 'https://avatars.githubusercontent.com/u/18182241?v=3',\n",
       "      'events_url': 'https://api.github.com/users/eloiseSJTU/events{/privacy}',\n",
       "      'followers_url': 'https://api.github.com/users/eloiseSJTU/followers',\n",
       "      'following_url': 'https://api.github.com/users/eloiseSJTU/following{/other_user}',\n",
       "      'gists_url': 'https://api.github.com/users/eloiseSJTU/gists{/gist_id}',\n",
       "      'gravatar_id': '',\n",
       "      'html_url': 'https://github.com/eloiseSJTU',\n",
       "      'id': 18182241,\n",
       "      'login': 'eloiseSJTU',\n",
       "      'organizations_url': 'https://api.github.com/users/eloiseSJTU/orgs',\n",
       "      'received_events_url': 'https://api.github.com/users/eloiseSJTU/received_events',\n",
       "      'repos_url': 'https://api.github.com/users/eloiseSJTU/repos',\n",
       "      'site_admin': False,\n",
       "      'starred_url': 'https://api.github.com/users/eloiseSJTU/starred{/owner}{/repo}',\n",
       "      'subscriptions_url': 'https://api.github.com/users/eloiseSJTU/subscriptions',\n",
       "      'type': 'User',\n",
       "      'url': 'https://api.github.com/users/eloiseSJTU'}},\n",
       "    'body': '',\n",
       "    'changed_files': 4,\n",
       "    'closed_at': None,\n",
       "    'comments': 0,\n",
       "    'comments_url': 'https://api.github.com/repos/eloiseSJTU/coding2017/issues/6/comments',\n",
       "    'commits': 1,\n",
       "    'commits_url': 'https://api.github.com/repos/eloiseSJTU/coding2017/pulls/6/commits',\n",
       "    'created_at': '2017-02-17T07:44:17Z',\n",
       "    'deletions': 0,\n",
       "    'diff_url': 'https://github.com/eloiseSJTU/coding2017/pull/6.diff',\n",
       "    'head': {'label': 'xiaozhuk:master',\n",
       "     'ref': 'master',\n",
       "     'repo': {'archive_url': 'https://api.github.com/repos/xiaozhuk/coding2017/{archive_format}{/ref}',\n",
       "      'assignees_url': 'https://api.github.com/repos/xiaozhuk/coding2017/assignees{/user}',\n",
       "      'blobs_url': 'https://api.github.com/repos/xiaozhuk/coding2017/git/blobs{/sha}',\n",
       "      'branches_url': 'https://api.github.com/repos/xiaozhuk/coding2017/branches{/branch}',\n",
       "      'clone_url': 'https://github.com/xiaozhuk/coding2017.git',\n",
       "      'collaborators_url': 'https://api.github.com/repos/xiaozhuk/coding2017/collaborators{/collaborator}',\n",
       "      'comments_url': 'https://api.github.com/repos/xiaozhuk/coding2017/comments{/number}',\n",
       "      'commits_url': 'https://api.github.com/repos/xiaozhuk/coding2017/commits{/sha}',\n",
       "      'compare_url': 'https://api.github.com/repos/xiaozhuk/coding2017/compare/{base}...{head}',\n",
       "      'contents_url': 'https://api.github.com/repos/xiaozhuk/coding2017/contents/{+path}',\n",
       "      'contributors_url': 'https://api.github.com/repos/xiaozhuk/coding2017/contributors',\n",
       "      'created_at': '2017-02-17T06:56:07Z',\n",
       "      'default_branch': 'master',\n",
       "      'deployments_url': 'https://api.github.com/repos/xiaozhuk/coding2017/deployments',\n",
       "      'description': '2017编程提高群',\n",
       "      'downloads_url': 'https://api.github.com/repos/xiaozhuk/coding2017/downloads',\n",
       "      'events_url': 'https://api.github.com/repos/xiaozhuk/coding2017/events',\n",
       "      'fork': True,\n",
       "      'forks': 0,\n",
       "      'forks_count': 0,\n",
       "      'forks_url': 'https://api.github.com/repos/xiaozhuk/coding2017/forks',\n",
       "      'full_name': 'xiaozhuk/coding2017',\n",
       "      'git_commits_url': 'https://api.github.com/repos/xiaozhuk/coding2017/git/commits{/sha}',\n",
       "      'git_refs_url': 'https://api.github.com/repos/xiaozhuk/coding2017/git/refs{/sha}',\n",
       "      'git_tags_url': 'https://api.github.com/repos/xiaozhuk/coding2017/git/tags{/sha}',\n",
       "      'git_url': 'git://github.com/xiaozhuk/coding2017.git',\n",
       "      'has_downloads': True,\n",
       "      'has_issues': False,\n",
       "      'has_pages': False,\n",
       "      'has_wiki': True,\n",
       "      'homepage': None,\n",
       "      'hooks_url': 'https://api.github.com/repos/xiaozhuk/coding2017/hooks',\n",
       "      'html_url': 'https://github.com/xiaozhuk/coding2017',\n",
       "      'id': 82267157,\n",
       "      'issue_comment_url': 'https://api.github.com/repos/xiaozhuk/coding2017/issues/comments{/number}',\n",
       "      'issue_events_url': 'https://api.github.com/repos/xiaozhuk/coding2017/issues/events{/number}',\n",
       "      'issues_url': 'https://api.github.com/repos/xiaozhuk/coding2017/issues{/number}',\n",
       "      'keys_url': 'https://api.github.com/repos/xiaozhuk/coding2017/keys{/key_id}',\n",
       "      'labels_url': 'https://api.github.com/repos/xiaozhuk/coding2017/labels{/name}',\n",
       "      'language': 'Java',\n",
       "      'languages_url': 'https://api.github.com/repos/xiaozhuk/coding2017/languages',\n",
       "      'merges_url': 'https://api.github.com/repos/xiaozhuk/coding2017/merges',\n",
       "      'milestones_url': 'https://api.github.com/repos/xiaozhuk/coding2017/milestones{/number}',\n",
       "      'mirror_url': None,\n",
       "      'name': 'coding2017',\n",
       "      'notifications_url': 'https://api.github.com/repos/xiaozhuk/coding2017/notifications{?since,all,participating}',\n",
       "      'open_issues': 0,\n",
       "      'open_issues_count': 0,\n",
       "      'owner': {'avatar_url': 'https://avatars.githubusercontent.com/u/25808848?v=3',\n",
       "       'events_url': 'https://api.github.com/users/xiaozhuk/events{/privacy}',\n",
       "       'followers_url': 'https://api.github.com/users/xiaozhuk/followers',\n",
       "       'following_url': 'https://api.github.com/users/xiaozhuk/following{/other_user}',\n",
       "       'gists_url': 'https://api.github.com/users/xiaozhuk/gists{/gist_id}',\n",
       "       'gravatar_id': '',\n",
       "       'html_url': 'https://github.com/xiaozhuk',\n",
       "       'id': 25808848,\n",
       "       'login': 'xiaozhuk',\n",
       "       'organizations_url': 'https://api.github.com/users/xiaozhuk/orgs',\n",
       "       'received_events_url': 'https://api.github.com/users/xiaozhuk/received_events',\n",
       "       'repos_url': 'https://api.github.com/users/xiaozhuk/repos',\n",
       "       'site_admin': False,\n",
       "       'starred_url': 'https://api.github.com/users/xiaozhuk/starred{/owner}{/repo}',\n",
       "       'subscriptions_url': 'https://api.github.com/users/xiaozhuk/subscriptions',\n",
       "       'type': 'User',\n",
       "       'url': 'https://api.github.com/users/xiaozhuk'},\n",
       "      'private': False,\n",
       "      'pulls_url': 'https://api.github.com/repos/xiaozhuk/coding2017/pulls{/number}',\n",
       "      'pushed_at': '2017-02-17T07:38:45Z',\n",
       "      'releases_url': 'https://api.github.com/repos/xiaozhuk/coding2017/releases{/id}',\n",
       "      'size': 8,\n",
       "      'ssh_url': 'git@github.com:xiaozhuk/coding2017.git',\n",
       "      'stargazers_count': 0,\n",
       "      'stargazers_url': 'https://api.github.com/repos/xiaozhuk/coding2017/stargazers',\n",
       "      'statuses_url': 'https://api.github.com/repos/xiaozhuk/coding2017/statuses/{sha}',\n",
       "      'subscribers_url': 'https://api.github.com/repos/xiaozhuk/coding2017/subscribers',\n",
       "      'subscription_url': 'https://api.github.com/repos/xiaozhuk/coding2017/subscription',\n",
       "      'svn_url': 'https://github.com/xiaozhuk/coding2017',\n",
       "      'tags_url': 'https://api.github.com/repos/xiaozhuk/coding2017/tags',\n",
       "      'teams_url': 'https://api.github.com/repos/xiaozhuk/coding2017/teams',\n",
       "      'trees_url': 'https://api.github.com/repos/xiaozhuk/coding2017/git/trees{/sha}',\n",
       "      'updated_at': '2017-02-17T06:56:08Z',\n",
       "      'url': 'https://api.github.com/repos/xiaozhuk/coding2017',\n",
       "      'watchers': 0,\n",
       "      'watchers_count': 0},\n",
       "     'sha': '38b0398bb596fa5795b7118e25a8aa709227c37b',\n",
       "     'user': {'avatar_url': 'https://avatars.githubusercontent.com/u/25808848?v=3',\n",
       "      'events_url': 'https://api.github.com/users/xiaozhuk/events{/privacy}',\n",
       "      'followers_url': 'https://api.github.com/users/xiaozhuk/followers',\n",
       "      'following_url': 'https://api.github.com/users/xiaozhuk/following{/other_user}',\n",
       "      'gists_url': 'https://api.github.com/users/xiaozhuk/gists{/gist_id}',\n",
       "      'gravatar_id': '',\n",
       "      'html_url': 'https://github.com/xiaozhuk',\n",
       "      'id': 25808848,\n",
       "      'login': 'xiaozhuk',\n",
       "      'organizations_url': 'https://api.github.com/users/xiaozhuk/orgs',\n",
       "      'received_events_url': 'https://api.github.com/users/xiaozhuk/received_events',\n",
       "      'repos_url': 'https://api.github.com/users/xiaozhuk/repos',\n",
       "      'site_admin': False,\n",
       "      'starred_url': 'https://api.github.com/users/xiaozhuk/starred{/owner}{/repo}',\n",
       "      'subscriptions_url': 'https://api.github.com/users/xiaozhuk/subscriptions',\n",
       "      'type': 'User',\n",
       "      'url': 'https://api.github.com/users/xiaozhuk'}},\n",
       "    'html_url': 'https://github.com/eloiseSJTU/coding2017/pull/6',\n",
       "    'id': 106682811,\n",
       "    'issue_url': 'https://api.github.com/repos/eloiseSJTU/coding2017/issues/6',\n",
       "    'locked': False,\n",
       "    'maintainer_can_modify': True,\n",
       "    'merge_commit_sha': '78512375e627993d92c392774007f5e9748ea482',\n",
       "    'mergeable': None,\n",
       "    'mergeable_state': 'unknown',\n",
       "    'merged': False,\n",
       "    'merged_at': None,\n",
       "    'merged_by': None,\n",
       "    'milestone': None,\n",
       "    'number': 6,\n",
       "    'patch_url': 'https://github.com/eloiseSJTU/coding2017/pull/6.patch',\n",
       "    'review_comment_url': 'https://api.github.com/repos/eloiseSJTU/coding2017/pulls/comments{/number}',\n",
       "    'review_comments': 1,\n",
       "    'review_comments_url': 'https://api.github.com/repos/eloiseSJTU/coding2017/pulls/6/comments',\n",
       "    'state': 'open',\n",
       "    'statuses_url': 'https://api.github.com/repos/eloiseSJTU/coding2017/statuses/38b0398bb596fa5795b7118e25a8aa709227c37b',\n",
       "    'title': '20170217zhukaizhong代码提交',\n",
       "    'updated_at': '2017-02-20T03:06:27Z',\n",
       "    'url': 'https://api.github.com/repos/eloiseSJTU/coding2017/pulls/6',\n",
       "    'user': {'avatar_url': 'https://avatars.githubusercontent.com/u/25808848?v=3',\n",
       "     'events_url': 'https://api.github.com/users/xiaozhuk/events{/privacy}',\n",
       "     'followers_url': 'https://api.github.com/users/xiaozhuk/followers',\n",
       "     'following_url': 'https://api.github.com/users/xiaozhuk/following{/other_user}',\n",
       "     'gists_url': 'https://api.github.com/users/xiaozhuk/gists{/gist_id}',\n",
       "     'gravatar_id': '',\n",
       "     'html_url': 'https://github.com/xiaozhuk',\n",
       "     'id': 25808848,\n",
       "     'login': 'xiaozhuk',\n",
       "     'organizations_url': 'https://api.github.com/users/xiaozhuk/orgs',\n",
       "     'received_events_url': 'https://api.github.com/users/xiaozhuk/received_events',\n",
       "     'repos_url': 'https://api.github.com/users/xiaozhuk/repos',\n",
       "     'site_admin': False,\n",
       "     'starred_url': 'https://api.github.com/users/xiaozhuk/starred{/owner}{/repo}',\n",
       "     'subscriptions_url': 'https://api.github.com/users/xiaozhuk/subscriptions',\n",
       "     'type': 'User',\n",
       "     'url': 'https://api.github.com/users/xiaozhuk'}}},\n",
       "  'public': True,\n",
       "  'repo': {'id': 82137122,\n",
       "   'name': 'eloiseSJTU/coding2017',\n",
       "   'url': 'https://api.github.com/repos/eloiseSJTU/coding2017'},\n",
       "  'type': 'PullRequestEvent'},\n",
       " {'actor': {'avatar_url': 'https://avatars.githubusercontent.com/u/25885511?',\n",
       "   'display_login': 'gkillian',\n",
       "   'gravatar_id': '',\n",
       "   'id': 25885511,\n",
       "   'login': 'gkillian',\n",
       "   'url': 'https://api.github.com/users/gkillian'},\n",
       "  'created_at': '2017-02-20T03:06:28Z',\n",
       "  'id': '5353032030',\n",
       "  'payload': {'before': '985b2f6bda239ee40555881001977d634b41d2c6',\n",
       "   'commits': [{'author': {'email': 'gkillian@Glenns-MacBook-Pro.local',\n",
       "      'name': 'Glenn Killian'},\n",
       "     'distinct': True,\n",
       "     'message': 'added update_file.txt',\n",
       "     'sha': 'b20e1693a680708b3c9798ce5209a57fe5486548',\n",
       "     'url': 'https://api.github.com/repos/gkillian/git_howto/commits/b20e1693a680708b3c9798ce5209a57fe5486548'}],\n",
       "   'distinct_size': 1,\n",
       "   'head': 'b20e1693a680708b3c9798ce5209a57fe5486548',\n",
       "   'push_id': 1567014946,\n",
       "   'ref': 'refs/heads/master',\n",
       "   'size': 1},\n",
       "  'public': True,\n",
       "  'repo': {'id': 82495723,\n",
       "   'name': 'gkillian/git_howto',\n",
       "   'url': 'https://api.github.com/repos/gkillian/git_howto'},\n",
       "  'type': 'PushEvent'},\n",
       " {'actor': {'avatar_url': 'https://avatars.githubusercontent.com/u/19861361?',\n",
       "   'display_login': 'Karyatis',\n",
       "   'gravatar_id': '',\n",
       "   'id': 19861361,\n",
       "   'login': 'Karyatis',\n",
       "   'url': 'https://api.github.com/users/Karyatis'},\n",
       "  'created_at': '2017-02-20T03:06:28Z',\n",
       "  'id': '5353032029',\n",
       "  'payload': {'description': None,\n",
       "   'master_branch': 'master',\n",
       "   'pusher_type': 'user',\n",
       "   'ref': 'seed-file',\n",
       "   'ref_type': 'branch'},\n",
       "  'public': True,\n",
       "  'repo': {'id': 82429003,\n",
       "   'name': 'Karyatis/recipe-box',\n",
       "   'url': 'https://api.github.com/repos/Karyatis/recipe-box'},\n",
       "  'type': 'CreateEvent'},\n",
       " {'actor': {'avatar_url': 'https://avatars.githubusercontent.com/u/23694395?',\n",
       "   'display_login': 'OPSTest',\n",
       "   'gravatar_id': '',\n",
       "   'id': 23694395,\n",
       "   'login': 'OPSTest',\n",
       "   'url': 'https://api.github.com/users/OPSTest'},\n",
       "  'created_at': '2017-02-20T03:06:27Z',\n",
       "  'id': '5353032023',\n",
       "  'payload': {'pusher_type': 'user',\n",
       "   'ref': 'validMetaBranch',\n",
       "   'ref_type': 'branch'},\n",
       "  'public': True,\n",
       "  'repo': {'id': 76227784,\n",
       "   'name': 'OPSTest/E2E_DocsBranch',\n",
       "   'url': 'https://api.github.com/repos/OPSTest/E2E_DocsBranch'},\n",
       "  'type': 'DeleteEvent'},\n",
       " {'actor': {'avatar_url': 'https://avatars.githubusercontent.com/u/9045989?',\n",
       "   'display_login': 'marianfu',\n",
       "   'gravatar_id': '',\n",
       "   'id': 9045989,\n",
       "   'login': 'marianfu',\n",
       "   'url': 'https://api.github.com/users/marianfu'},\n",
       "  'created_at': '2017-02-20T03:06:27Z',\n",
       "  'id': '5353032022',\n",
       "  'payload': {'description': None,\n",
       "   'master_branch': 'master',\n",
       "   'pusher_type': 'user',\n",
       "   'ref': 'develop',\n",
       "   'ref_type': 'branch'},\n",
       "  'public': True,\n",
       "  'repo': {'id': 82506344,\n",
       "   'name': 'marianfu/natural-language-frontend',\n",
       "   'url': 'https://api.github.com/repos/marianfu/natural-language-frontend'},\n",
       "  'type': 'CreateEvent'},\n",
       " {'actor': {'avatar_url': 'https://avatars.githubusercontent.com/u/3290689?',\n",
       "   'display_login': 'palmoreck',\n",
       "   'gravatar_id': '',\n",
       "   'id': 3290689,\n",
       "   'login': 'palmoreck',\n",
       "   'url': 'https://api.github.com/users/palmoreck'},\n",
       "  'created_at': '2017-02-20T03:06:27Z',\n",
       "  'id': '5353032014',\n",
       "  'org': {'avatar_url': 'https://avatars.githubusercontent.com/u/10421300?',\n",
       "   'gravatar_id': '',\n",
       "   'id': 10421300,\n",
       "   'login': 'ITAM-DS',\n",
       "   'url': 'https://api.github.com/orgs/ITAM-DS'},\n",
       "  'payload': {'action': 'created',\n",
       "   'comment': {'body': 'Me aparecen conflictos en los archivos:\\r\\n\\r\\n C/clases/clase5.md\\r\\nMNO/tareas_de_C/tarea3.md \\r\\n\\r\\nNo puedo hacer el merge con tu pull request. Puedes resolverlos ? \\r\\n\\r\\nLas correcciones las hice para esos archivos y luego commitee los cambios. \\r\\n\\r\\nEstos archivos no los commitees\\r\\n',\n",
       "    'created_at': '2017-02-20T03:06:27Z',\n",
       "    'html_url': 'https://github.com/ITAM-DS/analisis-numerico-computo-cientifico/pull/35#issuecomment-280977491',\n",
       "    'id': 280977491,\n",
       "    'issue_url': 'https://api.github.com/repos/ITAM-DS/analisis-numerico-computo-cientifico/issues/35',\n",
       "    'updated_at': '2017-02-20T03:06:27Z',\n",
       "    'url': 'https://api.github.com/repos/ITAM-DS/analisis-numerico-computo-cientifico/issues/comments/280977491',\n",
       "    'user': {'avatar_url': 'https://avatars.githubusercontent.com/u/3290689?v=3',\n",
       "     'events_url': 'https://api.github.com/users/palmoreck/events{/privacy}',\n",
       "     'followers_url': 'https://api.github.com/users/palmoreck/followers',\n",
       "     'following_url': 'https://api.github.com/users/palmoreck/following{/other_user}',\n",
       "     'gists_url': 'https://api.github.com/users/palmoreck/gists{/gist_id}',\n",
       "     'gravatar_id': '',\n",
       "     'html_url': 'https://github.com/palmoreck',\n",
       "     'id': 3290689,\n",
       "     'login': 'palmoreck',\n",
       "     'organizations_url': 'https://api.github.com/users/palmoreck/orgs',\n",
       "     'received_events_url': 'https://api.github.com/users/palmoreck/received_events',\n",
       "     'repos_url': 'https://api.github.com/users/palmoreck/repos',\n",
       "     'site_admin': False,\n",
       "     'starred_url': 'https://api.github.com/users/palmoreck/starred{/owner}{/repo}',\n",
       "     'subscriptions_url': 'https://api.github.com/users/palmoreck/subscriptions',\n",
       "     'type': 'User',\n",
       "     'url': 'https://api.github.com/users/palmoreck'}},\n",
       "   'issue': {'assignee': None,\n",
       "    'assignees': [],\n",
       "    'body': 'La version final corrige pequeños errores.',\n",
       "    'closed_at': None,\n",
       "    'comments': 1,\n",
       "    'comments_url': 'https://api.github.com/repos/ITAM-DS/analisis-numerico-computo-cientifico/issues/35/comments',\n",
       "    'created_at': '2017-02-13T01:08:36Z',\n",
       "    'events_url': 'https://api.github.com/repos/ITAM-DS/analisis-numerico-computo-cientifico/issues/35/events',\n",
       "    'html_url': 'https://github.com/ITAM-DS/analisis-numerico-computo-cientifico/pull/35',\n",
       "    'id': 207101237,\n",
       "    'labels': [],\n",
       "    'labels_url': 'https://api.github.com/repos/ITAM-DS/analisis-numerico-computo-cientifico/issues/35/labels{/name}',\n",
       "    'locked': False,\n",
       "    'milestone': None,\n",
       "    'number': 35,\n",
       "    'pull_request': {'diff_url': 'https://github.com/ITAM-DS/analisis-numerico-computo-cientifico/pull/35.diff',\n",
       "     'html_url': 'https://github.com/ITAM-DS/analisis-numerico-computo-cientifico/pull/35',\n",
       "     'patch_url': 'https://github.com/ITAM-DS/analisis-numerico-computo-cientifico/pull/35.patch',\n",
       "     'url': 'https://api.github.com/repos/ITAM-DS/analisis-numerico-computo-cientifico/pulls/35'},\n",
       "    'repository_url': 'https://api.github.com/repos/ITAM-DS/analisis-numerico-computo-cientifico',\n",
       "    'state': 'open',\n",
       "    'title': 'Tarea 2-Manuel Rios',\n",
       "    'updated_at': '2017-02-20T03:06:27Z',\n",
       "    'url': 'https://api.github.com/repos/ITAM-DS/analisis-numerico-computo-cientifico/issues/35',\n",
       "    'user': {'avatar_url': 'https://avatars.githubusercontent.com/u/13446437?v=3',\n",
       "     'events_url': 'https://api.github.com/users/marz7002/events{/privacy}',\n",
       "     'followers_url': 'https://api.github.com/users/marz7002/followers',\n",
       "     'following_url': 'https://api.github.com/users/marz7002/following{/other_user}',\n",
       "     'gists_url': 'https://api.github.com/users/marz7002/gists{/gist_id}',\n",
       "     'gravatar_id': '',\n",
       "     'html_url': 'https://github.com/marz7002',\n",
       "     'id': 13446437,\n",
       "     'login': 'marz7002',\n",
       "     'organizations_url': 'https://api.github.com/users/marz7002/orgs',\n",
       "     'received_events_url': 'https://api.github.com/users/marz7002/received_events',\n",
       "     'repos_url': 'https://api.github.com/users/marz7002/repos',\n",
       "     'site_admin': False,\n",
       "     'starred_url': 'https://api.github.com/users/marz7002/starred{/owner}{/repo}',\n",
       "     'subscriptions_url': 'https://api.github.com/users/marz7002/subscriptions',\n",
       "     'type': 'User',\n",
       "     'url': 'https://api.github.com/users/marz7002'}}},\n",
       "  'public': True,\n",
       "  'repo': {'id': 79446942,\n",
       "   'name': 'ITAM-DS/analisis-numerico-computo-cientifico',\n",
       "   'url': 'https://api.github.com/repos/ITAM-DS/analisis-numerico-computo-cientifico'},\n",
       "  'type': 'IssueCommentEvent'},\n",
       " {'actor': {'avatar_url': 'https://avatars.githubusercontent.com/u/22290914?',\n",
       "   'display_login': 'iSazonov',\n",
       "   'gravatar_id': '',\n",
       "   'id': 22290914,\n",
       "   'login': 'iSazonov',\n",
       "   'url': 'https://api.github.com/users/iSazonov'},\n",
       "  'created_at': '2017-02-20T03:06:27Z',\n",
       "  'id': '5353032007',\n",
       "  'payload': {'pusher_type': 'user',\n",
       "   'ref': 'BiosSeralNumber',\n",
       "   'ref_type': 'branch'},\n",
       "  'public': True,\n",
       "  'repo': {'id': 69433034,\n",
       "   'name': 'iSazonov/PowerShell',\n",
       "   'url': 'https://api.github.com/repos/iSazonov/PowerShell'},\n",
       "  'type': 'DeleteEvent'},\n",
       " {'actor': {'avatar_url': 'https://avatars.githubusercontent.com/u/2861944?',\n",
       "   'display_login': 'JakobEngel',\n",
       "   'gravatar_id': '',\n",
       "   'id': 2861944,\n",
       "   'login': 'JakobEngel',\n",
       "   'url': 'https://api.github.com/users/JakobEngel'},\n",
       "  'created_at': '2017-02-20T03:06:27Z',\n",
       "  'id': '5353032000',\n",
       "  'payload': {'action': 'closed',\n",
       "   'issue': {'assignee': None,\n",
       "    'assignees': [],\n",
       "    'body': \"@JakobEngel, any suggestions for the following error? Much Appreciated. \\r\\n\\r\\n![dso_error](https://cloud.githubusercontent.com/assets/24313747/20835108/8f1dced2-b84d-11e6-9da7-54615d786e8b.png)\\r\\n\\r\\nLinks to here: \\r\\nhttp://eigen.tuxfamily.org/dox-devel/group__TopicUnalignedArrayAssert.html\\r\\n\\r\\n\\r\\n`Following their suggestion of:\\r\\n> gdb ./my_program          # Start GDB on your program\\r\\n> run                                  # Start running your program\\r\\n...                                       # Now reproduce the crash!\\r\\n> bt                                    # Obtain the backtrace`\\r\\n\\r\\nI get:\\r\\n\\r\\n![dso_error2](https://cloud.githubusercontent.com/assets/24313747/20835236/51e36abc-b84e-11e6-89b1-cadce798773d.png)\\r\\n\\r\\nIt comes from the initialization of an identity quaternion in SO(3) from Sophus. \\r\\nIf you, or anyone else is not have this issue, I suspect it's likely a compiler issue...\",\n",
       "    'closed_at': '2017-02-20T03:06:27Z',\n",
       "    'comments': 24,\n",
       "    'comments_url': 'https://api.github.com/repos/JakobEngel/dso/issues/22/comments',\n",
       "    'created_at': '2016-12-02T13:11:11Z',\n",
       "    'events_url': 'https://api.github.com/repos/JakobEngel/dso/issues/22/events',\n",
       "    'html_url': 'https://github.com/JakobEngel/dso/issues/22',\n",
       "    'id': 193112895,\n",
       "    'labels': [],\n",
       "    'labels_url': 'https://api.github.com/repos/JakobEngel/dso/issues/22/labels{/name}',\n",
       "    'locked': False,\n",
       "    'milestone': None,\n",
       "    'number': 22,\n",
       "    'repository_url': 'https://api.github.com/repos/JakobEngel/dso',\n",
       "    'state': 'closed',\n",
       "    'title': 'Eigen Assertion Error in Initialization',\n",
       "    'updated_at': '2017-02-20T03:06:27Z',\n",
       "    'url': 'https://api.github.com/repos/JakobEngel/dso/issues/22',\n",
       "    'user': {'avatar_url': 'https://avatars.githubusercontent.com/u/24313747?v=3',\n",
       "     'events_url': 'https://api.github.com/users/airRobotFun/events{/privacy}',\n",
       "     'followers_url': 'https://api.github.com/users/airRobotFun/followers',\n",
       "     'following_url': 'https://api.github.com/users/airRobotFun/following{/other_user}',\n",
       "     'gists_url': 'https://api.github.com/users/airRobotFun/gists{/gist_id}',\n",
       "     'gravatar_id': '',\n",
       "     'html_url': 'https://github.com/airRobotFun',\n",
       "     'id': 24313747,\n",
       "     'login': 'airRobotFun',\n",
       "     'organizations_url': 'https://api.github.com/users/airRobotFun/orgs',\n",
       "     'received_events_url': 'https://api.github.com/users/airRobotFun/received_events',\n",
       "     'repos_url': 'https://api.github.com/users/airRobotFun/repos',\n",
       "     'site_admin': False,\n",
       "     'starred_url': 'https://api.github.com/users/airRobotFun/starred{/owner}{/repo}',\n",
       "     'subscriptions_url': 'https://api.github.com/users/airRobotFun/subscriptions',\n",
       "     'type': 'User',\n",
       "     'url': 'https://api.github.com/users/airRobotFun'}}},\n",
       "  'public': True,\n",
       "  'repo': {'id': 73256421,\n",
       "   'name': 'JakobEngel/dso',\n",
       "   'url': 'https://api.github.com/repos/JakobEngel/dso'},\n",
       "  'type': 'IssuesEvent'}]"
      ]
     },
     "execution_count": 9,
     "metadata": {},
     "output_type": "execute_result"
    }
   ],
   "source": [
    "import requests\n",
    "\n",
    "r = requests.get('https://api.github.com/events')\n",
    "r.json()"
   ]
  },
  {
   "cell_type": "markdown",
   "metadata": {},
   "source": [
    "## Raw Response Content\n",
    "\n",
    "### In the rare case that you'd like to get the raw socket response from the server, you can access r.raw. If you want to do this, make sure you set stream=True in your initial request.\n"
   ]
  },
  {
   "cell_type": "code",
   "execution_count": 13,
   "metadata": {
    "collapsed": false
   },
   "outputs": [
    {
     "data": {
      "text/plain": [
       "b'\\x1f\\x8b\\x08\\x00\\x00\\x00\\x00\\x00\\x00\\x03'"
      ]
     },
     "execution_count": 13,
     "metadata": {},
     "output_type": "execute_result"
    }
   ],
   "source": [
    "r = requests.get('https://api.github.com/events', stream=True)\n",
    "\n",
    "r.raw\n",
    "\n",
    "r.raw.read(10)"
   ]
  },
  {
   "cell_type": "markdown",
   "metadata": {},
   "source": [
    "However, in general, you should use a pattern like this to save what is being streamed to a file"
   ]
  },
  {
   "cell_type": "code",
   "execution_count": 19,
   "metadata": {
    "collapsed": false
   },
   "outputs": [],
   "source": [
    "with open(\"stream.txt\", 'wb') as fd:\n",
    "    for chunk in r.iter_content(chunk_size=128):\n",
    "        fd.write(chunk)"
   ]
  },
  {
   "cell_type": "markdown",
   "metadata": {},
   "source": [
    "## POST requests\n",
    "\n",
    "### POST submits data to be processed (e.g., from an HTML form) to the identified resource. The data is included in the body of the request. This may result in the creation of a new resource or the updates of existing resources or both.\n",
    "\n",
    "### Typically, you want to send some form-encoded data to server. Request package allows you simply pass a dictionary to the data argument. Your dictionary of data will automatically be form-encoded when the request is made."
   ]
  },
  {
   "cell_type": "code",
   "execution_count": 25,
   "metadata": {
    "collapsed": false
   },
   "outputs": [
    {
     "name": "stdout",
     "output_type": "stream",
     "text": [
      "{\n",
      "  \"args\": {}, \n",
      "  \"data\": \"\", \n",
      "  \"files\": {}, \n",
      "  \"form\": {\n",
      "    \"key1\": \"value1\", \n",
      "    \"key2\": \"value2\"\n",
      "  }, \n",
      "  \"headers\": {\n",
      "    \"Accept\": \"*/*\", \n",
      "    \"Accept-Encoding\": \"gzip, deflate\", \n",
      "    \"Content-Length\": \"23\", \n",
      "    \"Content-Type\": \"application/x-www-form-urlencoded\", \n",
      "    \"Host\": \"httpbin.org\", \n",
      "    \"User-Agent\": \"python-requests/2.12.4\"\n",
      "  }, \n",
      "  \"json\": null, \n",
      "  \"origin\": \"67.242.189.167\", \n",
      "  \"url\": \"http://httpbin.org/post\"\n",
      "}\n",
      "\n"
     ]
    }
   ],
   "source": [
    "import json\n",
    "\n",
    "payload = {'key1': 'value1', 'key2': 'value2'}\n",
    "\n",
    "r = requests.post(\"http://httpbin.org/post\", data=payload)\n",
    "print(r.text)\n"
   ]
  },
  {
   "cell_type": "markdown",
   "metadata": {},
   "source": [
    "### JSON-Encoded POST/PATCH data"
   ]
  },
  {
   "cell_type": "code",
   "execution_count": null,
   "metadata": {
    "collapsed": true
   },
   "outputs": [],
   "source": [
    "payload = {'some': 'data'}\n",
    "\n",
    "r = requests.post(url, data=json.dumps(payload))\n",
    "\n",
    "print(r.text)"
   ]
  },
  {
   "cell_type": "markdown",
   "metadata": {},
   "source": [
    "### POST a Multipart-Encoded File  "
   ]
  },
  {
   "cell_type": "code",
   "execution_count": 21,
   "metadata": {
    "collapsed": false
   },
   "outputs": [
    {
     "data": {
      "text/plain": [
       "'{\\n  \"args\": {}, \\n  \"data\": \"\", \\n  \"files\": {\\n    \"file\": \"some,data,to,send\\\\nanother,row,to,send\\\\n\"\\n  }, \\n  \"form\": {}, \\n  \"headers\": {\\n    \"Accept\": \"*/*\", \\n    \"Accept-Encoding\": \"gzip, deflate\", \\n    \"Content-Length\": \"184\", \\n    \"Content-Type\": \"multipart/form-data; boundary=af5592dc3c704279b946d9511c01d459\", \\n    \"Host\": \"httpbin.org\", \\n    \"User-Agent\": \"python-requests/2.12.4\"\\n  }, \\n  \"json\": null, \\n  \"origin\": \"67.242.189.167\", \\n  \"url\": \"http://httpbin.org/post\"\\n}\\n'"
      ]
     },
     "execution_count": 21,
     "metadata": {},
     "output_type": "execute_result"
    }
   ],
   "source": [
    "url = 'http://httpbin.org/post'\n",
    "files = {'file': ('report.csv', 'some,data,to,send\\nanother,row,to,send\\n')}\n",
    "\n",
    "r = requests.post(url, files=files)\n",
    "r.text"
   ]
  },
  {
   "cell_type": "markdown",
   "metadata": {},
   "source": [
    "## Session Objects\n",
    "\n",
    "### The Session object allows you to persist certain parameters across requests. It also persists cookies across all requests made from the Session instance, and will use urllib3's connection pooling. \n"
   ]
  },
  {
   "cell_type": "code",
   "execution_count": 26,
   "metadata": {
    "collapsed": false
   },
   "outputs": [
    {
     "name": "stdout",
     "output_type": "stream",
     "text": [
      "{\n",
      "  \"cookies\": {\n",
      "    \"sessioncookie\": \"123456789\"\n",
      "  }\n",
      "}\n",
      "\n"
     ]
    }
   ],
   "source": [
    "s = requests.Session()\n",
    "\n",
    "s.get('http://httpbin.org/cookies/set/sessioncookie/123456789')\n",
    "r = s.get('http://httpbin.org/cookies')\n",
    "\n",
    "print(r.text)\n",
    "# '{\"cookies\": {\"sessioncookie\": \"123456789\"}}'"
   ]
  },
  {
   "cell_type": "markdown",
   "metadata": {},
   "source": [
    "### Sessions can also be used to provide default data to the request methods. This is done by providing data to the properties on a Session object. "
   ]
  },
  {
   "cell_type": "code",
   "execution_count": 27,
   "metadata": {
    "collapsed": false
   },
   "outputs": [
    {
     "data": {
      "text/plain": [
       "<Response [200]>"
      ]
     },
     "execution_count": 27,
     "metadata": {},
     "output_type": "execute_result"
    }
   ],
   "source": [
    "s = requests.Session()\n",
    "s.auth = ('user', 'pass')\n",
    "s.headers.update({'x-test': 'true'})\n",
    "\n",
    "# both 'x-test' and 'x-test2' are sent\n",
    "s.get('http://httpbin.org/headers', headers={'x-test2': 'true'})"
   ]
  },
  {
   "cell_type": "markdown",
   "metadata": {},
   "source": [
    "### The method-level parameters will not be persisted across requests, even if using a session. This example will only send the cookies with the first request, but not the second:"
   ]
  },
  {
   "cell_type": "code",
   "execution_count": 28,
   "metadata": {
    "collapsed": false
   },
   "outputs": [
    {
     "name": "stdout",
     "output_type": "stream",
     "text": [
      "{\n",
      "  \"cookies\": {\n",
      "    \"from-my\": \"browser\"\n",
      "  }\n",
      "}\n",
      "\n",
      "{\n",
      "  \"cookies\": {}\n",
      "}\n",
      "\n"
     ]
    }
   ],
   "source": [
    "s = requests.Session()\n",
    "\n",
    "r = s.get('http://httpbin.org/cookies', cookies={'from-my': 'browser'})\n",
    "print(r.text)\n",
    "# '{\"cookies\": {\"from-my\": \"browser\"}}'\n",
    "\n",
    "r = s.get('http://httpbin.org/cookies')\n",
    "print(r.text)\n",
    "# '{\"cookies\": {}}'"
   ]
  },
  {
   "cell_type": "markdown",
   "metadata": {},
   "source": [
    "manually add cookies to your session"
   ]
  },
  {
   "cell_type": "code",
   "execution_count": 30,
   "metadata": {
    "collapsed": false
   },
   "outputs": [
    {
     "name": "stdout",
     "output_type": "stream",
     "text": [
      "{\n",
      "  \"cookies\": {\n",
      "    \"sessioncookie\": \"123456789\"\n",
      "  }\n",
      "}\n",
      "\n"
     ]
    }
   ],
   "source": [
    "with requests.Session() as s:\n",
    "    s.get('http://httpbin.org/cookies/set/sessioncookie/123456789')\n",
    "    \n",
    "r = s.get('http://httpbin.org/cookies')\n",
    "print(r.text)"
   ]
  },
  {
   "cell_type": "markdown",
   "metadata": {},
   "source": [
    "# Summary and personal assessment of the library.\n",
    "\n",
    "Requests Library is essentially an Apache 2 HTTP library written to retrieve data from web servers, translates it into Python Script, and enables users to view or modify URLs data in just a few lines of code. Since companies offer data through their APIs, Requests allows the users to use the APIs by making a request to a remote web server and extract the necessary data. The most basic functions of the Requests Library are: put, get, post, head, and delete. An advantage of the library is although it enables users to retrieve vast information and make modifications, it is very simple and easy to use. In fact, most usages of the library such as uploading multipart-encoded files, accessing a response containing certain cookies, to customizing headers of the request, all utilize similar codes. Requests Library makes it more convenient for users to interact with websites, which reinforces time-saving for users. Since the library has many usages and it is so simple to use, users could get jumbled with the purposes of different usages for specific lines of code.\n"
   ]
  }
 ],
 "metadata": {
  "kernelspec": {
   "display_name": "Python [conda root]",
   "language": "python",
   "name": "conda-root-py"
  },
  "language_info": {
   "codemirror_mode": {
    "name": "ipython",
    "version": 3
   },
   "file_extension": ".py",
   "mimetype": "text/x-python",
   "name": "python",
   "nbconvert_exporter": "python",
   "pygments_lexer": "ipython3",
   "version": "3.5.2"
  }
 },
 "nbformat": 4,
 "nbformat_minor": 2
}
